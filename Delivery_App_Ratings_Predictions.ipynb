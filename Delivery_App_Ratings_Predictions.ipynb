{
  "cells": [
    {
      "cell_type": "markdown",
      "metadata": {
        "id": "view-in-github",
        "colab_type": "text"
      },
      "source": [
        "<a href=\"https://colab.research.google.com/github/kristacourtaway/Bitcoin-Data-Analysis/blob/main/Delivery_App_Ratings_Predictions.ipynb\" target=\"_parent\"><img src=\"https://colab.research.google.com/assets/colab-badge.svg\" alt=\"Open In Colab\"/></a>"
      ]
    },
    {
      "cell_type": "markdown",
      "id": "02865386",
      "metadata": {
        "id": "02865386"
      },
      "source": [
        "## Importing Libraries and Dataset"
      ]
    },
    {
      "cell_type": "code",
      "execution_count": null,
      "id": "61863614",
      "metadata": {
        "id": "61863614"
      },
      "outputs": [],
      "source": [
        "import pandas as pd\n",
        "import numpy as np\n",
        "import matplotlib.pyplot as plt\n",
        "import seaborn as sns\n",
        "from sklearn.naive_bayes import GaussianNB\n",
        "from sklearn.linear_model import LogisticRegression\n",
        "from sklearn.ensemble import RandomForestClassifier\n",
        "from sklearn.tree import DecisionTreeClassifier\n",
        "from sklearn.metrics import confusion_matrix, accuracy_score\n",
        "import re\n",
        "import wordcloud\n",
        "from wordcloud import WordCloud, STOPWORDS\n",
        "from nltk.corpus import RegexpTokenizer as regextoken\n",
        "from nltk.corpus import stopwords\n",
        "from nltk import FreqDist, bigrams, trigrams\n",
        "from nltk.stem import WordNetLemmatizer\n",
        "import nltk\n",
        "from sklearn.preprocessing import LabelEncoder\n",
        "from sklearn.model_selection import train_test_split\n",
        "from sklearn.feature_extraction.text import TfidfVectorizer\n",
        "from sklearn.model_selection import cross_val_score\n",
        "from sklearn.metrics import confusion_matrix, accuracy_score"
      ]
    },
    {
      "cell_type": "code",
      "execution_count": null,
      "id": "5b23727d",
      "metadata": {
        "scrolled": true,
        "id": "5b23727d"
      },
      "outputs": [],
      "source": [
        "df = pd.read_csv('C:/Users/15127/Desktop/Portfolio/Delivery_App_Ratings_Predictions/Food_Delivery.csv')"
      ]
    },
    {
      "cell_type": "code",
      "execution_count": null,
      "id": "4c1f92cf",
      "metadata": {
        "id": "4c1f92cf"
      },
      "outputs": [],
      "source": [
        "import warnings\n",
        "from warnings import filterwarnings\n",
        "filterwarnings('ignore')"
      ]
    },
    {
      "cell_type": "code",
      "execution_count": null,
      "id": "9e0d07cd",
      "metadata": {
        "id": "9e0d07cd",
        "outputId": "3a8cb83d-fc11-4084-a425-03c9aa03480b"
      },
      "outputs": [
        {
          "data": {
            "text/html": [
              "<div>\n",
              "<style scoped>\n",
              "    .dataframe tbody tr th:only-of-type {\n",
              "        vertical-align: middle;\n",
              "    }\n",
              "\n",
              "    .dataframe tbody tr th {\n",
              "        vertical-align: top;\n",
              "    }\n",
              "\n",
              "    .dataframe thead th {\n",
              "        text-align: right;\n",
              "    }\n",
              "</style>\n",
              "<table border=\"1\" class=\"dataframe\">\n",
              "  <thead>\n",
              "    <tr style=\"text-align: right;\">\n",
              "      <th></th>\n",
              "      <th>url</th>\n",
              "      <th>address</th>\n",
              "      <th>name</th>\n",
              "      <th>online_order</th>\n",
              "      <th>book_table</th>\n",
              "      <th>rate</th>\n",
              "      <th>votes</th>\n",
              "      <th>phone</th>\n",
              "      <th>location</th>\n",
              "      <th>rest_type</th>\n",
              "      <th>dish_liked</th>\n",
              "      <th>cuisines</th>\n",
              "      <th>approx_cost(for two people)</th>\n",
              "      <th>reviews_list</th>\n",
              "      <th>menu_item</th>\n",
              "      <th>listed_in(type)</th>\n",
              "      <th>listed_in(city)</th>\n",
              "    </tr>\n",
              "  </thead>\n",
              "  <tbody>\n",
              "    <tr>\n",
              "      <th>0</th>\n",
              "      <td>https://www.zomato.com/bangalore/jalsa-banasha...</td>\n",
              "      <td>942, 21st Main Road, 2nd Stage, Banashankari, ...</td>\n",
              "      <td>Jalsa</td>\n",
              "      <td>Yes</td>\n",
              "      <td>Yes</td>\n",
              "      <td>4.1/5</td>\n",
              "      <td>775</td>\n",
              "      <td>080 42297555\\r\\n+91 9743772233</td>\n",
              "      <td>Banashankari</td>\n",
              "      <td>Casual Dining</td>\n",
              "      <td>Pasta, Lunch Buffet, Masala Papad, Paneer Laja...</td>\n",
              "      <td>North Indian, Mughlai, Chinese</td>\n",
              "      <td>800</td>\n",
              "      <td>[('Rated 4.0', 'RATED\\n  A beautiful place to ...</td>\n",
              "      <td>[]</td>\n",
              "      <td>Buffet</td>\n",
              "      <td>Banashankari</td>\n",
              "    </tr>\n",
              "    <tr>\n",
              "      <th>1</th>\n",
              "      <td>https://www.zomato.com/bangalore/spice-elephan...</td>\n",
              "      <td>2nd Floor, 80 Feet Road, Near Big Bazaar, 6th ...</td>\n",
              "      <td>Spice Elephant</td>\n",
              "      <td>Yes</td>\n",
              "      <td>No</td>\n",
              "      <td>4.1/5</td>\n",
              "      <td>787</td>\n",
              "      <td>080 41714161</td>\n",
              "      <td>Banashankari</td>\n",
              "      <td>Casual Dining</td>\n",
              "      <td>Momos, Lunch Buffet, Chocolate Nirvana, Thai G...</td>\n",
              "      <td>Chinese, North Indian, Thai</td>\n",
              "      <td>800</td>\n",
              "      <td>[('Rated 4.0', 'RATED\\n  Had been here for din...</td>\n",
              "      <td>[]</td>\n",
              "      <td>Buffet</td>\n",
              "      <td>Banashankari</td>\n",
              "    </tr>\n",
              "    <tr>\n",
              "      <th>2</th>\n",
              "      <td>https://www.zomato.com/SanchurroBangalore?cont...</td>\n",
              "      <td>1112, Next to KIMS Medical College, 17th Cross...</td>\n",
              "      <td>San Churro Cafe</td>\n",
              "      <td>Yes</td>\n",
              "      <td>No</td>\n",
              "      <td>3.8/5</td>\n",
              "      <td>918</td>\n",
              "      <td>+91 9663487993</td>\n",
              "      <td>Banashankari</td>\n",
              "      <td>Cafe, Casual Dining</td>\n",
              "      <td>Churros, Cannelloni, Minestrone Soup, Hot Choc...</td>\n",
              "      <td>Cafe, Mexican, Italian</td>\n",
              "      <td>800</td>\n",
              "      <td>[('Rated 3.0', \"RATED\\n  Ambience is not that ...</td>\n",
              "      <td>[]</td>\n",
              "      <td>Buffet</td>\n",
              "      <td>Banashankari</td>\n",
              "    </tr>\n",
              "    <tr>\n",
              "      <th>3</th>\n",
              "      <td>https://www.zomato.com/bangalore/addhuri-udupi...</td>\n",
              "      <td>1st Floor, Annakuteera, 3rd Stage, Banashankar...</td>\n",
              "      <td>Addhuri Udupi Bhojana</td>\n",
              "      <td>No</td>\n",
              "      <td>No</td>\n",
              "      <td>3.7/5</td>\n",
              "      <td>88</td>\n",
              "      <td>+91 9620009302</td>\n",
              "      <td>Banashankari</td>\n",
              "      <td>Quick Bites</td>\n",
              "      <td>Masala Dosa</td>\n",
              "      <td>South Indian, North Indian</td>\n",
              "      <td>300</td>\n",
              "      <td>[('Rated 4.0', \"RATED\\n  Great food and proper...</td>\n",
              "      <td>[]</td>\n",
              "      <td>Buffet</td>\n",
              "      <td>Banashankari</td>\n",
              "    </tr>\n",
              "    <tr>\n",
              "      <th>4</th>\n",
              "      <td>https://www.zomato.com/bangalore/grand-village...</td>\n",
              "      <td>10, 3rd Floor, Lakshmi Associates, Gandhi Baza...</td>\n",
              "      <td>Grand Village</td>\n",
              "      <td>No</td>\n",
              "      <td>No</td>\n",
              "      <td>3.8/5</td>\n",
              "      <td>166</td>\n",
              "      <td>+91 8026612447\\r\\n+91 9901210005</td>\n",
              "      <td>Basavanagudi</td>\n",
              "      <td>Casual Dining</td>\n",
              "      <td>Panipuri, Gol Gappe</td>\n",
              "      <td>North Indian, Rajasthani</td>\n",
              "      <td>600</td>\n",
              "      <td>[('Rated 4.0', 'RATED\\n  Very good restaurant ...</td>\n",
              "      <td>[]</td>\n",
              "      <td>Buffet</td>\n",
              "      <td>Banashankari</td>\n",
              "    </tr>\n",
              "  </tbody>\n",
              "</table>\n",
              "</div>"
            ],
            "text/plain": [
              "                                                 url  \\\n",
              "0  https://www.zomato.com/bangalore/jalsa-banasha...   \n",
              "1  https://www.zomato.com/bangalore/spice-elephan...   \n",
              "2  https://www.zomato.com/SanchurroBangalore?cont...   \n",
              "3  https://www.zomato.com/bangalore/addhuri-udupi...   \n",
              "4  https://www.zomato.com/bangalore/grand-village...   \n",
              "\n",
              "                                             address                   name  \\\n",
              "0  942, 21st Main Road, 2nd Stage, Banashankari, ...                  Jalsa   \n",
              "1  2nd Floor, 80 Feet Road, Near Big Bazaar, 6th ...         Spice Elephant   \n",
              "2  1112, Next to KIMS Medical College, 17th Cross...        San Churro Cafe   \n",
              "3  1st Floor, Annakuteera, 3rd Stage, Banashankar...  Addhuri Udupi Bhojana   \n",
              "4  10, 3rd Floor, Lakshmi Associates, Gandhi Baza...          Grand Village   \n",
              "\n",
              "  online_order book_table   rate  votes                             phone  \\\n",
              "0          Yes        Yes  4.1/5    775    080 42297555\\r\\n+91 9743772233   \n",
              "1          Yes         No  4.1/5    787                      080 41714161   \n",
              "2          Yes         No  3.8/5    918                    +91 9663487993   \n",
              "3           No         No  3.7/5     88                    +91 9620009302   \n",
              "4           No         No  3.8/5    166  +91 8026612447\\r\\n+91 9901210005   \n",
              "\n",
              "       location            rest_type  \\\n",
              "0  Banashankari        Casual Dining   \n",
              "1  Banashankari        Casual Dining   \n",
              "2  Banashankari  Cafe, Casual Dining   \n",
              "3  Banashankari          Quick Bites   \n",
              "4  Basavanagudi        Casual Dining   \n",
              "\n",
              "                                          dish_liked  \\\n",
              "0  Pasta, Lunch Buffet, Masala Papad, Paneer Laja...   \n",
              "1  Momos, Lunch Buffet, Chocolate Nirvana, Thai G...   \n",
              "2  Churros, Cannelloni, Minestrone Soup, Hot Choc...   \n",
              "3                                        Masala Dosa   \n",
              "4                                Panipuri, Gol Gappe   \n",
              "\n",
              "                         cuisines approx_cost(for two people)  \\\n",
              "0  North Indian, Mughlai, Chinese                         800   \n",
              "1     Chinese, North Indian, Thai                         800   \n",
              "2          Cafe, Mexican, Italian                         800   \n",
              "3      South Indian, North Indian                         300   \n",
              "4        North Indian, Rajasthani                         600   \n",
              "\n",
              "                                        reviews_list menu_item  \\\n",
              "0  [('Rated 4.0', 'RATED\\n  A beautiful place to ...        []   \n",
              "1  [('Rated 4.0', 'RATED\\n  Had been here for din...        []   \n",
              "2  [('Rated 3.0', \"RATED\\n  Ambience is not that ...        []   \n",
              "3  [('Rated 4.0', \"RATED\\n  Great food and proper...        []   \n",
              "4  [('Rated 4.0', 'RATED\\n  Very good restaurant ...        []   \n",
              "\n",
              "  listed_in(type) listed_in(city)  \n",
              "0          Buffet    Banashankari  \n",
              "1          Buffet    Banashankari  \n",
              "2          Buffet    Banashankari  \n",
              "3          Buffet    Banashankari  \n",
              "4          Buffet    Banashankari  "
            ]
          },
          "execution_count": 4,
          "metadata": {},
          "output_type": "execute_result"
        }
      ],
      "source": [
        "df.head()"
      ]
    },
    {
      "cell_type": "code",
      "execution_count": null,
      "id": "a1b87e52",
      "metadata": {
        "id": "a1b87e52",
        "outputId": "7ba42e05-2536-486d-be42-b8bbba138c66"
      },
      "outputs": [
        {
          "data": {
            "text/plain": [
              "url                                0\n",
              "address                            0\n",
              "name                               0\n",
              "online_order                       0\n",
              "book_table                         0\n",
              "rate                            7775\n",
              "votes                              0\n",
              "phone                           1208\n",
              "location                          21\n",
              "rest_type                        227\n",
              "dish_liked                     28078\n",
              "cuisines                          45\n",
              "approx_cost(for two people)      346\n",
              "reviews_list                       0\n",
              "menu_item                          0\n",
              "listed_in(type)                    0\n",
              "listed_in(city)                    0\n",
              "dtype: int64"
            ]
          },
          "execution_count": 5,
          "metadata": {},
          "output_type": "execute_result"
        }
      ],
      "source": [
        "df.isnull().sum()"
      ]
    },
    {
      "cell_type": "code",
      "execution_count": null,
      "id": "93c8dc2e",
      "metadata": {
        "id": "93c8dc2e",
        "outputId": "166af816-bf27-425f-b1ca-cb0a4656759f"
      },
      "outputs": [
        {
          "data": {
            "text/plain": [
              "Index(['url', 'address', 'name', 'online_order', 'book_table', 'rate', 'votes',\n",
              "       'phone', 'location', 'rest_type', 'dish_liked', 'cuisines',\n",
              "       'approx_cost(for two people)', 'reviews_list', 'menu_item',\n",
              "       'listed_in(type)', 'listed_in(city)'],\n",
              "      dtype='object')"
            ]
          },
          "execution_count": 6,
          "metadata": {},
          "output_type": "execute_result"
        }
      ],
      "source": [
        "df.columns\n"
      ]
    },
    {
      "cell_type": "code",
      "execution_count": null,
      "id": "5807bc54",
      "metadata": {
        "id": "5807bc54",
        "outputId": "30413247-33de-47a5-d642-94b93cc3be64"
      },
      "outputs": [
        {
          "data": {
            "text/plain": [
              "['rate',\n",
              " 'phone',\n",
              " 'location',\n",
              " 'rest_type',\n",
              " 'dish_liked',\n",
              " 'cuisines',\n",
              " 'approx_cost(for two people)']"
            ]
          },
          "execution_count": 7,
          "metadata": {},
          "output_type": "execute_result"
        }
      ],
      "source": [
        "[feature for feature in df.columns if df[feature].isnull().sum()>0]"
      ]
    },
    {
      "cell_type": "code",
      "execution_count": null,
      "id": "c745be9e",
      "metadata": {
        "id": "c745be9e",
        "outputId": "c2852760-36df-4228-b6f7-ea55e6b285f7"
      },
      "outputs": [
        {
          "data": {
            "text/plain": [
              "['rate',\n",
              " 'phone',\n",
              " 'location',\n",
              " 'rest_type',\n",
              " 'dish_liked',\n",
              " 'cuisines',\n",
              " 'approx_cost(for two people)']"
            ]
          },
          "execution_count": 8,
          "metadata": {},
          "output_type": "execute_result"
        }
      ],
      "source": [
        "feature_na = []\n",
        "for feature in df.columns:\n",
        "    if df[feature].isnull().sum()>0:\n",
        "        feature_na.append(feature)\n",
        "feature_na"
      ]
    },
    {
      "cell_type": "code",
      "execution_count": null,
      "id": "120a124e",
      "metadata": {
        "id": "120a124e",
        "outputId": "bda09223-ac30-430b-c0b9-553c550ac967"
      },
      "outputs": [
        {
          "data": {
            "text/plain": [
              "15.033741322969234"
            ]
          },
          "execution_count": 9,
          "metadata": {},
          "output_type": "execute_result"
        }
      ],
      "source": [
        "df['rate'].isnull().sum()/len(df)*100"
      ]
    },
    {
      "cell_type": "code",
      "execution_count": null,
      "id": "6d733247",
      "metadata": {
        "id": "6d733247",
        "outputId": "8d7a0a57-b80b-470d-b366-3c891f0454c9"
      },
      "outputs": [
        {
          "name": "stdout",
          "output_type": "stream",
          "text": [
            "rate has 15.0337 % missing values\n",
            "phone has 2.3358 % missing values\n",
            "location has 0.0406 % missing values\n",
            "rest_type has 0.4389 % missing values\n",
            "dish_liked has 54.2916 % missing values\n",
            "cuisines has 0.087 % missing values\n",
            "approx_cost(for two people) has 0.669 % missing values\n"
          ]
        }
      ],
      "source": [
        "for feature in feature_na:\n",
        "    print('{} has {} % missing values'.format(feature,np.round(df[feature].isnull().sum()/len(df)*100,4)))"
      ]
    },
    {
      "cell_type": "code",
      "execution_count": null,
      "id": "c033ef71",
      "metadata": {
        "id": "c033ef71",
        "outputId": "c39a00bf-ef1c-4d41-fb9c-29fc5016945e"
      },
      "outputs": [
        {
          "name": "stdout",
          "output_type": "stream",
          "text": [
            "<class 'pandas.core.frame.DataFrame'>\n",
            "RangeIndex: 51717 entries, 0 to 51716\n",
            "Data columns (total 17 columns):\n",
            " #   Column                       Non-Null Count  Dtype \n",
            "---  ------                       --------------  ----- \n",
            " 0   url                          51717 non-null  object\n",
            " 1   address                      51717 non-null  object\n",
            " 2   name                         51717 non-null  object\n",
            " 3   online_order                 51717 non-null  object\n",
            " 4   book_table                   51717 non-null  object\n",
            " 5   rate                         43942 non-null  object\n",
            " 6   votes                        51717 non-null  int64 \n",
            " 7   phone                        50509 non-null  object\n",
            " 8   location                     51696 non-null  object\n",
            " 9   rest_type                    51490 non-null  object\n",
            " 10  dish_liked                   23639 non-null  object\n",
            " 11  cuisines                     51672 non-null  object\n",
            " 12  approx_cost(for two people)  51371 non-null  object\n",
            " 13  reviews_list                 51717 non-null  object\n",
            " 14  menu_item                    51717 non-null  object\n",
            " 15  listed_in(type)              51717 non-null  object\n",
            " 16  listed_in(city)              51717 non-null  object\n",
            "dtypes: int64(1), object(16)\n",
            "memory usage: 6.7+ MB\n"
          ]
        }
      ],
      "source": [
        "df.info()"
      ]
    },
    {
      "cell_type": "markdown",
      "id": "0d55a701",
      "metadata": {
        "id": "0d55a701"
      },
      "source": [
        "## Removing Duplicates From Data"
      ]
    },
    {
      "cell_type": "code",
      "execution_count": null,
      "id": "65b3e160",
      "metadata": {
        "id": "65b3e160"
      },
      "outputs": [],
      "source": [
        "data = df.copy()"
      ]
    },
    {
      "cell_type": "code",
      "execution_count": null,
      "id": "6fff9fdd",
      "metadata": {
        "id": "6fff9fdd",
        "outputId": "f6a4b73d-1e11-4df1-bfab-bddb11011dc5"
      },
      "outputs": [
        {
          "data": {
            "text/html": [
              "<div>\n",
              "<style scoped>\n",
              "    .dataframe tbody tr th:only-of-type {\n",
              "        vertical-align: middle;\n",
              "    }\n",
              "\n",
              "    .dataframe tbody tr th {\n",
              "        vertical-align: top;\n",
              "    }\n",
              "\n",
              "    .dataframe thead th {\n",
              "        text-align: right;\n",
              "    }\n",
              "</style>\n",
              "<table border=\"1\" class=\"dataframe\">\n",
              "  <thead>\n",
              "    <tr style=\"text-align: right;\">\n",
              "      <th></th>\n",
              "      <th>url</th>\n",
              "      <th>address</th>\n",
              "      <th>name</th>\n",
              "      <th>online_order</th>\n",
              "      <th>book_table</th>\n",
              "      <th>rate</th>\n",
              "      <th>votes</th>\n",
              "      <th>phone</th>\n",
              "      <th>location</th>\n",
              "      <th>rest_type</th>\n",
              "      <th>dish_liked</th>\n",
              "      <th>cuisines</th>\n",
              "      <th>approx_cost(for two people)</th>\n",
              "      <th>reviews_list</th>\n",
              "      <th>menu_item</th>\n",
              "      <th>listed_in(type)</th>\n",
              "      <th>listed_in(city)</th>\n",
              "    </tr>\n",
              "  </thead>\n",
              "  <tbody>\n",
              "    <tr>\n",
              "      <th>0</th>\n",
              "      <td>https://www.zomato.com/bangalore/jalsa-banasha...</td>\n",
              "      <td>942, 21st Main Road, 2nd Stage, Banashankari, ...</td>\n",
              "      <td>Jalsa</td>\n",
              "      <td>Yes</td>\n",
              "      <td>Yes</td>\n",
              "      <td>4.1/5</td>\n",
              "      <td>775</td>\n",
              "      <td>080 42297555\\r\\n+91 9743772233</td>\n",
              "      <td>Banashankari</td>\n",
              "      <td>Casual Dining</td>\n",
              "      <td>Pasta, Lunch Buffet, Masala Papad, Paneer Laja...</td>\n",
              "      <td>North Indian, Mughlai, Chinese</td>\n",
              "      <td>800</td>\n",
              "      <td>[('Rated 4.0', 'RATED\\n  A beautiful place to ...</td>\n",
              "      <td>[]</td>\n",
              "      <td>Buffet</td>\n",
              "      <td>Banashankari</td>\n",
              "    </tr>\n",
              "    <tr>\n",
              "      <th>1</th>\n",
              "      <td>https://www.zomato.com/bangalore/spice-elephan...</td>\n",
              "      <td>2nd Floor, 80 Feet Road, Near Big Bazaar, 6th ...</td>\n",
              "      <td>Spice Elephant</td>\n",
              "      <td>Yes</td>\n",
              "      <td>No</td>\n",
              "      <td>4.1/5</td>\n",
              "      <td>787</td>\n",
              "      <td>080 41714161</td>\n",
              "      <td>Banashankari</td>\n",
              "      <td>Casual Dining</td>\n",
              "      <td>Momos, Lunch Buffet, Chocolate Nirvana, Thai G...</td>\n",
              "      <td>Chinese, North Indian, Thai</td>\n",
              "      <td>800</td>\n",
              "      <td>[('Rated 4.0', 'RATED\\n  Had been here for din...</td>\n",
              "      <td>[]</td>\n",
              "      <td>Buffet</td>\n",
              "      <td>Banashankari</td>\n",
              "    </tr>\n",
              "    <tr>\n",
              "      <th>2</th>\n",
              "      <td>https://www.zomato.com/SanchurroBangalore?cont...</td>\n",
              "      <td>1112, Next to KIMS Medical College, 17th Cross...</td>\n",
              "      <td>San Churro Cafe</td>\n",
              "      <td>Yes</td>\n",
              "      <td>No</td>\n",
              "      <td>3.8/5</td>\n",
              "      <td>918</td>\n",
              "      <td>+91 9663487993</td>\n",
              "      <td>Banashankari</td>\n",
              "      <td>Cafe, Casual Dining</td>\n",
              "      <td>Churros, Cannelloni, Minestrone Soup, Hot Choc...</td>\n",
              "      <td>Cafe, Mexican, Italian</td>\n",
              "      <td>800</td>\n",
              "      <td>[('Rated 3.0', \"RATED\\n  Ambience is not that ...</td>\n",
              "      <td>[]</td>\n",
              "      <td>Buffet</td>\n",
              "      <td>Banashankari</td>\n",
              "    </tr>\n",
              "    <tr>\n",
              "      <th>3</th>\n",
              "      <td>https://www.zomato.com/bangalore/addhuri-udupi...</td>\n",
              "      <td>1st Floor, Annakuteera, 3rd Stage, Banashankar...</td>\n",
              "      <td>Addhuri Udupi Bhojana</td>\n",
              "      <td>No</td>\n",
              "      <td>No</td>\n",
              "      <td>3.7/5</td>\n",
              "      <td>88</td>\n",
              "      <td>+91 9620009302</td>\n",
              "      <td>Banashankari</td>\n",
              "      <td>Quick Bites</td>\n",
              "      <td>Masala Dosa</td>\n",
              "      <td>South Indian, North Indian</td>\n",
              "      <td>300</td>\n",
              "      <td>[('Rated 4.0', \"RATED\\n  Great food and proper...</td>\n",
              "      <td>[]</td>\n",
              "      <td>Buffet</td>\n",
              "      <td>Banashankari</td>\n",
              "    </tr>\n",
              "    <tr>\n",
              "      <th>4</th>\n",
              "      <td>https://www.zomato.com/bangalore/grand-village...</td>\n",
              "      <td>10, 3rd Floor, Lakshmi Associates, Gandhi Baza...</td>\n",
              "      <td>Grand Village</td>\n",
              "      <td>No</td>\n",
              "      <td>No</td>\n",
              "      <td>3.8/5</td>\n",
              "      <td>166</td>\n",
              "      <td>+91 8026612447\\r\\n+91 9901210005</td>\n",
              "      <td>Basavanagudi</td>\n",
              "      <td>Casual Dining</td>\n",
              "      <td>Panipuri, Gol Gappe</td>\n",
              "      <td>North Indian, Rajasthani</td>\n",
              "      <td>600</td>\n",
              "      <td>[('Rated 4.0', 'RATED\\n  Very good restaurant ...</td>\n",
              "      <td>[]</td>\n",
              "      <td>Buffet</td>\n",
              "      <td>Banashankari</td>\n",
              "    </tr>\n",
              "  </tbody>\n",
              "</table>\n",
              "</div>"
            ],
            "text/plain": [
              "                                                 url  \\\n",
              "0  https://www.zomato.com/bangalore/jalsa-banasha...   \n",
              "1  https://www.zomato.com/bangalore/spice-elephan...   \n",
              "2  https://www.zomato.com/SanchurroBangalore?cont...   \n",
              "3  https://www.zomato.com/bangalore/addhuri-udupi...   \n",
              "4  https://www.zomato.com/bangalore/grand-village...   \n",
              "\n",
              "                                             address                   name  \\\n",
              "0  942, 21st Main Road, 2nd Stage, Banashankari, ...                  Jalsa   \n",
              "1  2nd Floor, 80 Feet Road, Near Big Bazaar, 6th ...         Spice Elephant   \n",
              "2  1112, Next to KIMS Medical College, 17th Cross...        San Churro Cafe   \n",
              "3  1st Floor, Annakuteera, 3rd Stage, Banashankar...  Addhuri Udupi Bhojana   \n",
              "4  10, 3rd Floor, Lakshmi Associates, Gandhi Baza...          Grand Village   \n",
              "\n",
              "  online_order book_table   rate  votes                             phone  \\\n",
              "0          Yes        Yes  4.1/5    775    080 42297555\\r\\n+91 9743772233   \n",
              "1          Yes         No  4.1/5    787                      080 41714161   \n",
              "2          Yes         No  3.8/5    918                    +91 9663487993   \n",
              "3           No         No  3.7/5     88                    +91 9620009302   \n",
              "4           No         No  3.8/5    166  +91 8026612447\\r\\n+91 9901210005   \n",
              "\n",
              "       location            rest_type  \\\n",
              "0  Banashankari        Casual Dining   \n",
              "1  Banashankari        Casual Dining   \n",
              "2  Banashankari  Cafe, Casual Dining   \n",
              "3  Banashankari          Quick Bites   \n",
              "4  Basavanagudi        Casual Dining   \n",
              "\n",
              "                                          dish_liked  \\\n",
              "0  Pasta, Lunch Buffet, Masala Papad, Paneer Laja...   \n",
              "1  Momos, Lunch Buffet, Chocolate Nirvana, Thai G...   \n",
              "2  Churros, Cannelloni, Minestrone Soup, Hot Choc...   \n",
              "3                                        Masala Dosa   \n",
              "4                                Panipuri, Gol Gappe   \n",
              "\n",
              "                         cuisines approx_cost(for two people)  \\\n",
              "0  North Indian, Mughlai, Chinese                         800   \n",
              "1     Chinese, North Indian, Thai                         800   \n",
              "2          Cafe, Mexican, Italian                         800   \n",
              "3      South Indian, North Indian                         300   \n",
              "4        North Indian, Rajasthani                         600   \n",
              "\n",
              "                                        reviews_list menu_item  \\\n",
              "0  [('Rated 4.0', 'RATED\\n  A beautiful place to ...        []   \n",
              "1  [('Rated 4.0', 'RATED\\n  Had been here for din...        []   \n",
              "2  [('Rated 3.0', \"RATED\\n  Ambience is not that ...        []   \n",
              "3  [('Rated 4.0', \"RATED\\n  Great food and proper...        []   \n",
              "4  [('Rated 4.0', 'RATED\\n  Very good restaurant ...        []   \n",
              "\n",
              "  listed_in(type) listed_in(city)  \n",
              "0          Buffet    Banashankari  \n",
              "1          Buffet    Banashankari  \n",
              "2          Buffet    Banashankari  \n",
              "3          Buffet    Banashankari  \n",
              "4          Buffet    Banashankari  "
            ]
          },
          "execution_count": 13,
          "metadata": {},
          "output_type": "execute_result"
        }
      ],
      "source": [
        "data.head()"
      ]
    },
    {
      "cell_type": "code",
      "execution_count": null,
      "id": "662ef422",
      "metadata": {
        "id": "662ef422",
        "outputId": "9e56b667-8678-417d-fa0a-7a9dcf00dae4"
      },
      "outputs": [
        {
          "data": {
            "text/plain": [
              "8792"
            ]
          },
          "execution_count": 14,
          "metadata": {},
          "output_type": "execute_result"
        }
      ],
      "source": [
        "len(data['name'].unique())"
      ]
    },
    {
      "cell_type": "code",
      "execution_count": null,
      "id": "6c7ce14f",
      "metadata": {
        "id": "6c7ce14f"
      },
      "outputs": [],
      "source": [
        "grouped = data.groupby(['name', 'address']).agg({'listed_in(type)':list})"
      ]
    },
    {
      "cell_type": "code",
      "execution_count": null,
      "id": "d6e82585",
      "metadata": {
        "id": "d6e82585",
        "outputId": "df9c2d2d-6b77-479f-d3ee-420c9f5c6900"
      },
      "outputs": [
        {
          "data": {
            "text/html": [
              "<div>\n",
              "<style scoped>\n",
              "    .dataframe tbody tr th:only-of-type {\n",
              "        vertical-align: middle;\n",
              "    }\n",
              "\n",
              "    .dataframe tbody tr th {\n",
              "        vertical-align: top;\n",
              "    }\n",
              "\n",
              "    .dataframe thead th {\n",
              "        text-align: right;\n",
              "    }\n",
              "</style>\n",
              "<table border=\"1\" class=\"dataframe\">\n",
              "  <thead>\n",
              "    <tr style=\"text-align: right;\">\n",
              "      <th></th>\n",
              "      <th></th>\n",
              "      <th>listed_in(type)</th>\n",
              "    </tr>\n",
              "    <tr>\n",
              "      <th>name</th>\n",
              "      <th>address</th>\n",
              "      <th></th>\n",
              "    </tr>\n",
              "  </thead>\n",
              "  <tbody>\n",
              "    <tr>\n",
              "      <th>#FeelTheROLL</th>\n",
              "      <th>Opposite Mantri Commercio, Outer Ring Road, Devarabisanahalli, Near Sakra World Hospital</th>\n",
              "      <td>[Delivery, Delivery]</td>\n",
              "    </tr>\n",
              "    <tr>\n",
              "      <th>#L-81 Cafe</th>\n",
              "      <th>Sector 6, HSR Layout, HSR</th>\n",
              "      <td>[Delivery, Dine-out, Delivery, Dine-out, Deliv...</td>\n",
              "    </tr>\n",
              "    <tr>\n",
              "      <th>#Vibes Restro</th>\n",
              "      <th>Marasur Gate, Chandapura - Anekal Road, Near Aliance Collage, Electronic City, Bangalore</th>\n",
              "      <td>[Buffet, Delivery, Dine-out]</td>\n",
              "    </tr>\n",
              "    <tr>\n",
              "      <th>#refuel</th>\n",
              "      <th>7, Ground Floor, RR Commercial Complex, Akshay Nagar, Bannerghatta Road, Bangalore</th>\n",
              "      <td>[Cafes, Delivery, Dine-out]</td>\n",
              "    </tr>\n",
              "    <tr>\n",
              "      <th>'Brahmins' Thatte Idli</th>\n",
              "      <th>19, 1st main, 2nd cross, 3rd stage, 3rd block, Basaveshwara Nagar, Bangalore</th>\n",
              "      <td>[Dine-out]</td>\n",
              "    </tr>\n",
              "    <tr>\n",
              "      <th>...</th>\n",
              "      <th>...</th>\n",
              "      <td>...</td>\n",
              "    </tr>\n",
              "    <tr>\n",
              "      <th rowspan=\"2\" valign=\"top\">nu.tree</th>\n",
              "      <th>47/7 First floor, DoddaThogur Road, Near Velankani Gate 2, Phase 1, Electronic City, Bangalore</th>\n",
              "      <td>[Delivery]</td>\n",
              "    </tr>\n",
              "    <tr>\n",
              "      <th>Ground Floor-Lobby Area, Brigade IRV Centre, Nallurhalli Road, Whitefield, Bangalore</th>\n",
              "      <td>[Delivery, Delivery, Delivery]</td>\n",
              "    </tr>\n",
              "    <tr>\n",
              "      <th>re:cess - Hilton Bangalore Embassy GolfLinks</th>\n",
              "      <th>Hilton Bangalore Embassy GolfLinks, Embassy Golf Links Business Park, Inner Ring Road, Domlur, Bangalore</th>\n",
              "      <td>[Dine-out, Dine-out, Pubs and bars]</td>\n",
              "    </tr>\n",
              "    <tr>\n",
              "      <th>repEAT Hub</th>\n",
              "      <th>67/4, Bhoganahalli Road, JCR Layout, Panathur, Marathahalli, Bangalore</th>\n",
              "      <td>[Delivery, Dine-out]</td>\n",
              "    </tr>\n",
              "    <tr>\n",
              "      <th>sCoolMeal</th>\n",
              "      <th>197/293-3, 32nd Main, 1st Stage, BTM, Bangalore</th>\n",
              "      <td>[Delivery, Delivery, Delivery, Delivery, Deliv...</td>\n",
              "    </tr>\n",
              "  </tbody>\n",
              "</table>\n",
              "<p>12499 rows × 1 columns</p>\n",
              "</div>"
            ],
            "text/plain": [
              "                                                                                                                                   listed_in(type)\n",
              "name                                         address                                                                                              \n",
              "#FeelTheROLL                                 Opposite Mantri Commercio, Outer Ring Road, Dev...                               [Delivery, Delivery]\n",
              "#L-81 Cafe                                   Sector 6, HSR Layout, HSR                           [Delivery, Dine-out, Delivery, Dine-out, Deliv...\n",
              "#Vibes Restro                                Marasur Gate, Chandapura - Anekal Road, Near Al...                       [Buffet, Delivery, Dine-out]\n",
              "#refuel                                      7, Ground Floor, RR Commercial Complex, Akshay ...                        [Cafes, Delivery, Dine-out]\n",
              "'Brahmins' Thatte Idli                       19, 1st main, 2nd cross, 3rd stage, 3rd block, ...                                         [Dine-out]\n",
              "...                                                                                                                                            ...\n",
              "nu.tree                                      47/7 First floor, DoddaThogur Road, Near Velank...                                         [Delivery]\n",
              "                                             Ground Floor-Lobby Area, Brigade IRV Centre, Na...                     [Delivery, Delivery, Delivery]\n",
              "re:cess - Hilton Bangalore Embassy GolfLinks Hilton Bangalore Embassy GolfLinks, Embassy Gol...                [Dine-out, Dine-out, Pubs and bars]\n",
              "repEAT Hub                                   67/4, Bhoganahalli Road, JCR Layout, Panathur, ...                               [Delivery, Dine-out]\n",
              "sCoolMeal                                    197/293-3, 32nd Main, 1st Stage, BTM, Bangalore     [Delivery, Delivery, Delivery, Delivery, Deliv...\n",
              "\n",
              "[12499 rows x 1 columns]"
            ]
          },
          "execution_count": 16,
          "metadata": {},
          "output_type": "execute_result"
        }
      ],
      "source": [
        "grouped"
      ]
    },
    {
      "cell_type": "code",
      "execution_count": null,
      "id": "3170d51e",
      "metadata": {
        "id": "3170d51e"
      },
      "outputs": [],
      "source": [
        "newData = pd.merge(grouped, data, on = (['name', 'address']))"
      ]
    },
    {
      "cell_type": "code",
      "execution_count": null,
      "id": "e614286a",
      "metadata": {
        "id": "e614286a",
        "outputId": "2a7bed55-038a-49cc-fcfb-cf6dcc594351"
      },
      "outputs": [
        {
          "data": {
            "text/plain": [
              "Index(['name', 'address', 'listed_in(type)_x', 'url', 'online_order',\n",
              "       'book_table', 'rate', 'votes', 'phone', 'location', 'rest_type',\n",
              "       'dish_liked', 'cuisines', 'approx_cost(for two people)', 'reviews_list',\n",
              "       'menu_item', 'listed_in(type)_y', 'listed_in(city)'],\n",
              "      dtype='object')"
            ]
          },
          "execution_count": 18,
          "metadata": {},
          "output_type": "execute_result"
        }
      ],
      "source": [
        "newData.columns"
      ]
    },
    {
      "cell_type": "code",
      "execution_count": null,
      "id": "18992456",
      "metadata": {
        "id": "18992456",
        "outputId": "68256b03-ffd3-4cb2-a2f1-3bfbf07dbbb4"
      },
      "outputs": [
        {
          "data": {
            "text/html": [
              "<div>\n",
              "<style scoped>\n",
              "    .dataframe tbody tr th:only-of-type {\n",
              "        vertical-align: middle;\n",
              "    }\n",
              "\n",
              "    .dataframe tbody tr th {\n",
              "        vertical-align: top;\n",
              "    }\n",
              "\n",
              "    .dataframe thead th {\n",
              "        text-align: right;\n",
              "    }\n",
              "</style>\n",
              "<table border=\"1\" class=\"dataframe\">\n",
              "  <thead>\n",
              "    <tr style=\"text-align: right;\">\n",
              "      <th></th>\n",
              "      <th>name</th>\n",
              "      <th>address</th>\n",
              "      <th>listed_in(type)_x</th>\n",
              "      <th>url</th>\n",
              "      <th>online_order</th>\n",
              "      <th>book_table</th>\n",
              "      <th>rate</th>\n",
              "      <th>votes</th>\n",
              "      <th>phone</th>\n",
              "      <th>location</th>\n",
              "      <th>rest_type</th>\n",
              "      <th>dish_liked</th>\n",
              "      <th>cuisines</th>\n",
              "      <th>approx_cost(for two people)</th>\n",
              "      <th>reviews_list</th>\n",
              "      <th>menu_item</th>\n",
              "      <th>listed_in(type)_y</th>\n",
              "      <th>listed_in(city)</th>\n",
              "    </tr>\n",
              "  </thead>\n",
              "  <tbody>\n",
              "    <tr>\n",
              "      <th>0</th>\n",
              "      <td>#FeelTheROLL</td>\n",
              "      <td>Opposite Mantri Commercio, Outer Ring Road, De...</td>\n",
              "      <td>[Delivery, Delivery]</td>\n",
              "      <td>https://www.zomato.com/bangalore/feeltheroll-b...</td>\n",
              "      <td>No</td>\n",
              "      <td>No</td>\n",
              "      <td>3.4/5</td>\n",
              "      <td>7</td>\n",
              "      <td>+91 9108342079\\r\\n+91 9886117901</td>\n",
              "      <td>Bellandur</td>\n",
              "      <td>Quick Bites</td>\n",
              "      <td>NaN</td>\n",
              "      <td>Fast Food</td>\n",
              "      <td>200</td>\n",
              "      <td>[('Rated 5.0', \"RATED\\n  Had an egg chicken ro...</td>\n",
              "      <td>[]</td>\n",
              "      <td>Delivery</td>\n",
              "      <td>Bellandur</td>\n",
              "    </tr>\n",
              "    <tr>\n",
              "      <th>1</th>\n",
              "      <td>#FeelTheROLL</td>\n",
              "      <td>Opposite Mantri Commercio, Outer Ring Road, De...</td>\n",
              "      <td>[Delivery, Delivery]</td>\n",
              "      <td>https://www.zomato.com/bangalore/feeltheroll-b...</td>\n",
              "      <td>No</td>\n",
              "      <td>No</td>\n",
              "      <td>3.4 /5</td>\n",
              "      <td>7</td>\n",
              "      <td>+91 9108342079\\n+91 9886117901</td>\n",
              "      <td>Bellandur</td>\n",
              "      <td>Quick Bites</td>\n",
              "      <td>NaN</td>\n",
              "      <td>Fast Food</td>\n",
              "      <td>200</td>\n",
              "      <td>[('Rated 5.0', \"RATED\\n  Had an egg chicken ro...</td>\n",
              "      <td>[]</td>\n",
              "      <td>Delivery</td>\n",
              "      <td>Sarjapur Road</td>\n",
              "    </tr>\n",
              "    <tr>\n",
              "      <th>2</th>\n",
              "      <td>#L-81 Cafe</td>\n",
              "      <td>Sector 6, HSR Layout, HSR</td>\n",
              "      <td>[Delivery, Dine-out, Delivery, Dine-out, Deliv...</td>\n",
              "      <td>https://www.zomato.com/bangalore/l-81-cafe-hsr...</td>\n",
              "      <td>Yes</td>\n",
              "      <td>No</td>\n",
              "      <td>3.9/5</td>\n",
              "      <td>48</td>\n",
              "      <td>+91 9986210891</td>\n",
              "      <td>HSR</td>\n",
              "      <td>Quick Bites</td>\n",
              "      <td>Burgers</td>\n",
              "      <td>Fast Food, Beverages</td>\n",
              "      <td>400</td>\n",
              "      <td>[('Rated 4.0', 'RATED\\n  This little cafe is s...</td>\n",
              "      <td>[]</td>\n",
              "      <td>Delivery</td>\n",
              "      <td>BTM</td>\n",
              "    </tr>\n",
              "    <tr>\n",
              "      <th>3</th>\n",
              "      <td>#L-81 Cafe</td>\n",
              "      <td>Sector 6, HSR Layout, HSR</td>\n",
              "      <td>[Delivery, Dine-out, Delivery, Dine-out, Deliv...</td>\n",
              "      <td>https://www.zomato.com/bangalore/l-81-cafe-hsr...</td>\n",
              "      <td>Yes</td>\n",
              "      <td>No</td>\n",
              "      <td>3.9/5</td>\n",
              "      <td>48</td>\n",
              "      <td>+91 9986210891</td>\n",
              "      <td>HSR</td>\n",
              "      <td>Quick Bites</td>\n",
              "      <td>Burgers</td>\n",
              "      <td>Fast Food, Beverages</td>\n",
              "      <td>400</td>\n",
              "      <td>[('Rated 4.0', 'RATED\\n  This little cafe is s...</td>\n",
              "      <td>[]</td>\n",
              "      <td>Dine-out</td>\n",
              "      <td>BTM</td>\n",
              "    </tr>\n",
              "    <tr>\n",
              "      <th>4</th>\n",
              "      <td>#L-81 Cafe</td>\n",
              "      <td>Sector 6, HSR Layout, HSR</td>\n",
              "      <td>[Delivery, Dine-out, Delivery, Dine-out, Deliv...</td>\n",
              "      <td>https://www.zomato.com/bangalore/l-81-cafe-hsr...</td>\n",
              "      <td>Yes</td>\n",
              "      <td>No</td>\n",
              "      <td>3.9/5</td>\n",
              "      <td>48</td>\n",
              "      <td>+91 9986210891</td>\n",
              "      <td>HSR</td>\n",
              "      <td>Quick Bites</td>\n",
              "      <td>Burgers</td>\n",
              "      <td>Fast Food, Beverages</td>\n",
              "      <td>400</td>\n",
              "      <td>[('Rated 4.0', 'RATED\\n  This little cafe is s...</td>\n",
              "      <td>[]</td>\n",
              "      <td>Delivery</td>\n",
              "      <td>HSR</td>\n",
              "    </tr>\n",
              "  </tbody>\n",
              "</table>\n",
              "</div>"
            ],
            "text/plain": [
              "           name                                            address  \\\n",
              "0  #FeelTheROLL  Opposite Mantri Commercio, Outer Ring Road, De...   \n",
              "1  #FeelTheROLL  Opposite Mantri Commercio, Outer Ring Road, De...   \n",
              "2    #L-81 Cafe                          Sector 6, HSR Layout, HSR   \n",
              "3    #L-81 Cafe                          Sector 6, HSR Layout, HSR   \n",
              "4    #L-81 Cafe                          Sector 6, HSR Layout, HSR   \n",
              "\n",
              "                                   listed_in(type)_x  \\\n",
              "0                               [Delivery, Delivery]   \n",
              "1                               [Delivery, Delivery]   \n",
              "2  [Delivery, Dine-out, Delivery, Dine-out, Deliv...   \n",
              "3  [Delivery, Dine-out, Delivery, Dine-out, Deliv...   \n",
              "4  [Delivery, Dine-out, Delivery, Dine-out, Deliv...   \n",
              "\n",
              "                                                 url online_order book_table  \\\n",
              "0  https://www.zomato.com/bangalore/feeltheroll-b...           No         No   \n",
              "1  https://www.zomato.com/bangalore/feeltheroll-b...           No         No   \n",
              "2  https://www.zomato.com/bangalore/l-81-cafe-hsr...          Yes         No   \n",
              "3  https://www.zomato.com/bangalore/l-81-cafe-hsr...          Yes         No   \n",
              "4  https://www.zomato.com/bangalore/l-81-cafe-hsr...          Yes         No   \n",
              "\n",
              "     rate  votes                             phone   location    rest_type  \\\n",
              "0   3.4/5      7  +91 9108342079\\r\\n+91 9886117901  Bellandur  Quick Bites   \n",
              "1  3.4 /5      7    +91 9108342079\\n+91 9886117901  Bellandur  Quick Bites   \n",
              "2   3.9/5     48                    +91 9986210891        HSR  Quick Bites   \n",
              "3   3.9/5     48                    +91 9986210891        HSR  Quick Bites   \n",
              "4   3.9/5     48                    +91 9986210891        HSR  Quick Bites   \n",
              "\n",
              "  dish_liked              cuisines approx_cost(for two people)  \\\n",
              "0        NaN             Fast Food                         200   \n",
              "1        NaN             Fast Food                         200   \n",
              "2    Burgers  Fast Food, Beverages                         400   \n",
              "3    Burgers  Fast Food, Beverages                         400   \n",
              "4    Burgers  Fast Food, Beverages                         400   \n",
              "\n",
              "                                        reviews_list menu_item  \\\n",
              "0  [('Rated 5.0', \"RATED\\n  Had an egg chicken ro...        []   \n",
              "1  [('Rated 5.0', \"RATED\\n  Had an egg chicken ro...        []   \n",
              "2  [('Rated 4.0', 'RATED\\n  This little cafe is s...        []   \n",
              "3  [('Rated 4.0', 'RATED\\n  This little cafe is s...        []   \n",
              "4  [('Rated 4.0', 'RATED\\n  This little cafe is s...        []   \n",
              "\n",
              "  listed_in(type)_y listed_in(city)  \n",
              "0          Delivery       Bellandur  \n",
              "1          Delivery   Sarjapur Road  \n",
              "2          Delivery             BTM  \n",
              "3          Dine-out             BTM  \n",
              "4          Delivery             HSR  "
            ]
          },
          "execution_count": 19,
          "metadata": {},
          "output_type": "execute_result"
        }
      ],
      "source": [
        "newData.head()"
      ]
    },
    {
      "cell_type": "code",
      "execution_count": null,
      "id": "cae1d0c2",
      "metadata": {
        "id": "cae1d0c2",
        "outputId": "fef5b7dc-0810-4483-c96d-9eadd5e3bfe3"
      },
      "outputs": [
        {
          "data": {
            "text/plain": [
              "(51717, 18)"
            ]
          },
          "execution_count": 20,
          "metadata": {},
          "output_type": "execute_result"
        }
      ],
      "source": [
        "newData.shape"
      ]
    },
    {
      "cell_type": "code",
      "execution_count": null,
      "id": "77ad1ba2",
      "metadata": {
        "id": "77ad1ba2"
      },
      "outputs": [],
      "source": [
        "newData.drop_duplicates(subset = ['name', 'address', 'listed_in(type)_y'], inplace = True)"
      ]
    },
    {
      "cell_type": "code",
      "execution_count": null,
      "id": "c91cb83b",
      "metadata": {
        "id": "c91cb83b",
        "outputId": "dfcf7da1-dd49-40c0-9469-575597379264"
      },
      "outputs": [
        {
          "data": {
            "text/plain": [
              "(20915, 18)"
            ]
          },
          "execution_count": 22,
          "metadata": {},
          "output_type": "execute_result"
        }
      ],
      "source": [
        "newData.shape"
      ]
    },
    {
      "cell_type": "code",
      "execution_count": null,
      "id": "f020e16c",
      "metadata": {
        "id": "f020e16c",
        "outputId": "a9c4d03f-c435-448e-c77f-999245e38e33"
      },
      "outputs": [
        {
          "data": {
            "text/html": [
              "<div>\n",
              "<style scoped>\n",
              "    .dataframe tbody tr th:only-of-type {\n",
              "        vertical-align: middle;\n",
              "    }\n",
              "\n",
              "    .dataframe tbody tr th {\n",
              "        vertical-align: top;\n",
              "    }\n",
              "\n",
              "    .dataframe thead th {\n",
              "        text-align: right;\n",
              "    }\n",
              "</style>\n",
              "<table border=\"1\" class=\"dataframe\">\n",
              "  <thead>\n",
              "    <tr style=\"text-align: right;\">\n",
              "      <th></th>\n",
              "      <th>name</th>\n",
              "      <th>address</th>\n",
              "      <th>listed_in(type)_x</th>\n",
              "      <th>url</th>\n",
              "      <th>online_order</th>\n",
              "      <th>book_table</th>\n",
              "      <th>rate</th>\n",
              "      <th>votes</th>\n",
              "      <th>phone</th>\n",
              "      <th>location</th>\n",
              "      <th>rest_type</th>\n",
              "      <th>dish_liked</th>\n",
              "      <th>cuisines</th>\n",
              "      <th>approx_cost(for two people)</th>\n",
              "      <th>reviews_list</th>\n",
              "      <th>menu_item</th>\n",
              "      <th>listed_in(type)_y</th>\n",
              "      <th>listed_in(city)</th>\n",
              "    </tr>\n",
              "  </thead>\n",
              "  <tbody>\n",
              "    <tr>\n",
              "      <th>0</th>\n",
              "      <td>#FeelTheROLL</td>\n",
              "      <td>Opposite Mantri Commercio, Outer Ring Road, De...</td>\n",
              "      <td>[Delivery, Delivery]</td>\n",
              "      <td>https://www.zomato.com/bangalore/feeltheroll-b...</td>\n",
              "      <td>No</td>\n",
              "      <td>No</td>\n",
              "      <td>3.4/5</td>\n",
              "      <td>7</td>\n",
              "      <td>+91 9108342079\\r\\n+91 9886117901</td>\n",
              "      <td>Bellandur</td>\n",
              "      <td>Quick Bites</td>\n",
              "      <td>NaN</td>\n",
              "      <td>Fast Food</td>\n",
              "      <td>200</td>\n",
              "      <td>[('Rated 5.0', \"RATED\\n  Had an egg chicken ro...</td>\n",
              "      <td>[]</td>\n",
              "      <td>Delivery</td>\n",
              "      <td>Bellandur</td>\n",
              "    </tr>\n",
              "    <tr>\n",
              "      <th>2</th>\n",
              "      <td>#L-81 Cafe</td>\n",
              "      <td>Sector 6, HSR Layout, HSR</td>\n",
              "      <td>[Delivery, Dine-out, Delivery, Dine-out, Deliv...</td>\n",
              "      <td>https://www.zomato.com/bangalore/l-81-cafe-hsr...</td>\n",
              "      <td>Yes</td>\n",
              "      <td>No</td>\n",
              "      <td>3.9/5</td>\n",
              "      <td>48</td>\n",
              "      <td>+91 9986210891</td>\n",
              "      <td>HSR</td>\n",
              "      <td>Quick Bites</td>\n",
              "      <td>Burgers</td>\n",
              "      <td>Fast Food, Beverages</td>\n",
              "      <td>400</td>\n",
              "      <td>[('Rated 4.0', 'RATED\\n  This little cafe is s...</td>\n",
              "      <td>[]</td>\n",
              "      <td>Delivery</td>\n",
              "      <td>BTM</td>\n",
              "    </tr>\n",
              "    <tr>\n",
              "      <th>3</th>\n",
              "      <td>#L-81 Cafe</td>\n",
              "      <td>Sector 6, HSR Layout, HSR</td>\n",
              "      <td>[Delivery, Dine-out, Delivery, Dine-out, Deliv...</td>\n",
              "      <td>https://www.zomato.com/bangalore/l-81-cafe-hsr...</td>\n",
              "      <td>Yes</td>\n",
              "      <td>No</td>\n",
              "      <td>3.9/5</td>\n",
              "      <td>48</td>\n",
              "      <td>+91 9986210891</td>\n",
              "      <td>HSR</td>\n",
              "      <td>Quick Bites</td>\n",
              "      <td>Burgers</td>\n",
              "      <td>Fast Food, Beverages</td>\n",
              "      <td>400</td>\n",
              "      <td>[('Rated 4.0', 'RATED\\n  This little cafe is s...</td>\n",
              "      <td>[]</td>\n",
              "      <td>Dine-out</td>\n",
              "      <td>BTM</td>\n",
              "    </tr>\n",
              "    <tr>\n",
              "      <th>11</th>\n",
              "      <td>#Vibes Restro</td>\n",
              "      <td>Marasur Gate, Chandapura - Anekal Road, Near A...</td>\n",
              "      <td>[Buffet, Delivery, Dine-out]</td>\n",
              "      <td>https://www.zomato.com/bangalore/vibes-restro-...</td>\n",
              "      <td>No</td>\n",
              "      <td>No</td>\n",
              "      <td>NaN</td>\n",
              "      <td>0</td>\n",
              "      <td>+91 9538911285</td>\n",
              "      <td>Electronic City</td>\n",
              "      <td>Casual Dining</td>\n",
              "      <td>NaN</td>\n",
              "      <td>Continental, Chinese, Italian</td>\n",
              "      <td>700</td>\n",
              "      <td>[('Rated 5.0', \"RATED\\n  Great service and don...</td>\n",
              "      <td>[]</td>\n",
              "      <td>Buffet</td>\n",
              "      <td>Electronic City</td>\n",
              "    </tr>\n",
              "    <tr>\n",
              "      <th>12</th>\n",
              "      <td>#Vibes Restro</td>\n",
              "      <td>Marasur Gate, Chandapura - Anekal Road, Near A...</td>\n",
              "      <td>[Buffet, Delivery, Dine-out]</td>\n",
              "      <td>https://www.zomato.com/bangalore/vibes-restro-...</td>\n",
              "      <td>No</td>\n",
              "      <td>No</td>\n",
              "      <td>NaN</td>\n",
              "      <td>0</td>\n",
              "      <td>+91 9538911285</td>\n",
              "      <td>Electronic City</td>\n",
              "      <td>Casual Dining</td>\n",
              "      <td>NaN</td>\n",
              "      <td>Continental, Chinese, Italian</td>\n",
              "      <td>700</td>\n",
              "      <td>[('Rated 5.0', \"RATED\\n  Great service and don...</td>\n",
              "      <td>[]</td>\n",
              "      <td>Delivery</td>\n",
              "      <td>Electronic City</td>\n",
              "    </tr>\n",
              "    <tr>\n",
              "      <th>13</th>\n",
              "      <td>#Vibes Restro</td>\n",
              "      <td>Marasur Gate, Chandapura - Anekal Road, Near A...</td>\n",
              "      <td>[Buffet, Delivery, Dine-out]</td>\n",
              "      <td>https://www.zomato.com/bangalore/vibes-restro-...</td>\n",
              "      <td>No</td>\n",
              "      <td>No</td>\n",
              "      <td>NaN</td>\n",
              "      <td>0</td>\n",
              "      <td>+91 9538911285</td>\n",
              "      <td>Electronic City</td>\n",
              "      <td>Casual Dining</td>\n",
              "      <td>NaN</td>\n",
              "      <td>Continental, Chinese, Italian</td>\n",
              "      <td>700</td>\n",
              "      <td>[('Rated 5.0', \"RATED\\n  Great service and don...</td>\n",
              "      <td>[]</td>\n",
              "      <td>Dine-out</td>\n",
              "      <td>Electronic City</td>\n",
              "    </tr>\n",
              "    <tr>\n",
              "      <th>14</th>\n",
              "      <td>#refuel</td>\n",
              "      <td>7, Ground Floor, RR Commercial Complex, Akshay...</td>\n",
              "      <td>[Cafes, Delivery, Dine-out]</td>\n",
              "      <td>https://www.zomato.com/bangalore/refuel-banner...</td>\n",
              "      <td>Yes</td>\n",
              "      <td>No</td>\n",
              "      <td>3.7/5</td>\n",
              "      <td>37</td>\n",
              "      <td>+91 8971227222</td>\n",
              "      <td>Bannerghatta Road</td>\n",
              "      <td>Cafe</td>\n",
              "      <td>Thick Shakes, Sandwiches, Pasta, Mocktails</td>\n",
              "      <td>Cafe, Beverages</td>\n",
              "      <td>400</td>\n",
              "      <td>[('Rated 3.0', 'RATED\\n  We ordered for Schezw...</td>\n",
              "      <td>['Kit Kat Thick Shake', 'Ferrero Rocher Thick ...</td>\n",
              "      <td>Cafes</td>\n",
              "      <td>Bannerghatta Road</td>\n",
              "    </tr>\n",
              "    <tr>\n",
              "      <th>15</th>\n",
              "      <td>#refuel</td>\n",
              "      <td>7, Ground Floor, RR Commercial Complex, Akshay...</td>\n",
              "      <td>[Cafes, Delivery, Dine-out]</td>\n",
              "      <td>https://www.zomato.com/bangalore/refuel-banner...</td>\n",
              "      <td>Yes</td>\n",
              "      <td>No</td>\n",
              "      <td>3.7/5</td>\n",
              "      <td>37</td>\n",
              "      <td>+91 8971227222</td>\n",
              "      <td>Bannerghatta Road</td>\n",
              "      <td>Cafe</td>\n",
              "      <td>Thick Shakes, Sandwiches, Pasta, Mocktails</td>\n",
              "      <td>Cafe, Beverages</td>\n",
              "      <td>400</td>\n",
              "      <td>[('Rated 3.0', 'RATED\\n  We ordered for Schezw...</td>\n",
              "      <td>[]</td>\n",
              "      <td>Delivery</td>\n",
              "      <td>Bannerghatta Road</td>\n",
              "    </tr>\n",
              "    <tr>\n",
              "      <th>16</th>\n",
              "      <td>#refuel</td>\n",
              "      <td>7, Ground Floor, RR Commercial Complex, Akshay...</td>\n",
              "      <td>[Cafes, Delivery, Dine-out]</td>\n",
              "      <td>https://www.zomato.com/bangalore/refuel-banner...</td>\n",
              "      <td>Yes</td>\n",
              "      <td>No</td>\n",
              "      <td>3.7/5</td>\n",
              "      <td>37</td>\n",
              "      <td>+91 8971227222</td>\n",
              "      <td>Bannerghatta Road</td>\n",
              "      <td>Cafe</td>\n",
              "      <td>Thick Shakes, Sandwiches, Pasta, Mocktails</td>\n",
              "      <td>Cafe, Beverages</td>\n",
              "      <td>400</td>\n",
              "      <td>[('Rated 3.0', 'RATED\\n  We ordered for Schezw...</td>\n",
              "      <td>[]</td>\n",
              "      <td>Dine-out</td>\n",
              "      <td>Bannerghatta Road</td>\n",
              "    </tr>\n",
              "    <tr>\n",
              "      <th>17</th>\n",
              "      <td>'Brahmins' Thatte Idli</td>\n",
              "      <td>19, 1st main, 2nd cross, 3rd stage, 3rd block,...</td>\n",
              "      <td>[Dine-out]</td>\n",
              "      <td>https://www.zomato.com/bangalore/brahmins-that...</td>\n",
              "      <td>Yes</td>\n",
              "      <td>No</td>\n",
              "      <td>NaN</td>\n",
              "      <td>0</td>\n",
              "      <td>+91 9148013543\\n+91 9902102665</td>\n",
              "      <td>Basaveshwara Nagar</td>\n",
              "      <td>Quick Bites</td>\n",
              "      <td>NaN</td>\n",
              "      <td>South Indian</td>\n",
              "      <td>100</td>\n",
              "      <td>[]</td>\n",
              "      <td>['Masala Dosa', 'Set Dosa', 'Shavige Bhath', '...</td>\n",
              "      <td>Dine-out</td>\n",
              "      <td>Rajajinagar</td>\n",
              "    </tr>\n",
              "    <tr>\n",
              "      <th>18</th>\n",
              "      <td>1 Fahreheit</td>\n",
              "      <td>Nishika Arcade, Nanjappa Main Road, Next to Jo...</td>\n",
              "      <td>[Desserts]</td>\n",
              "      <td>https://www.zomato.com/bangalore/1-fahreheit-n...</td>\n",
              "      <td>No</td>\n",
              "      <td>No</td>\n",
              "      <td>NaN</td>\n",
              "      <td>0</td>\n",
              "      <td>+91 8095700987</td>\n",
              "      <td>New BEL Road</td>\n",
              "      <td>Dessert Parlor</td>\n",
              "      <td>NaN</td>\n",
              "      <td>Desserts, Ice Cream</td>\n",
              "      <td>200</td>\n",
              "      <td>[('Rated 5.0', 'RATED\\n  An awesome place for ...</td>\n",
              "      <td>[]</td>\n",
              "      <td>Desserts</td>\n",
              "      <td>New BEL Road</td>\n",
              "    </tr>\n",
              "    <tr>\n",
              "      <th>19</th>\n",
              "      <td>1000 B.C</td>\n",
              "      <td>16, 17th A Main, Koramangala 5th Block, Bangalore</td>\n",
              "      <td>[Delivery, Delivery, Delivery, Delivery, Deliv...</td>\n",
              "      <td>https://www.zomato.com/bangalore/1000-b-c-kora...</td>\n",
              "      <td>Yes</td>\n",
              "      <td>No</td>\n",
              "      <td>3.2/5</td>\n",
              "      <td>49</td>\n",
              "      <td>+91 9620946663</td>\n",
              "      <td>Koramangala 5th Block</td>\n",
              "      <td>Quick Bites</td>\n",
              "      <td>Shawarma, Sandwiches</td>\n",
              "      <td>Arabian, Sandwich, Rolls, Burger</td>\n",
              "      <td>300</td>\n",
              "      <td>[('Rated 1.0', \"RATED\\n  Ordered a chicken sub...</td>\n",
              "      <td>[]</td>\n",
              "      <td>Delivery</td>\n",
              "      <td>BTM</td>\n",
              "    </tr>\n",
              "    <tr>\n",
              "      <th>25</th>\n",
              "      <td>100ÃÂÃÂÃÂÃÂÃÂÃÂÃÂÃÂ°C</td>\n",
              "      <td>688, Thanish Corner, 7th Main, 10th Cross, 2nd...</td>\n",
              "      <td>[Dine-out, Dine-out, Dine-out]</td>\n",
              "      <td>https://www.zomato.com/bangalore/100%C2%B0c-bt...</td>\n",
              "      <td>No</td>\n",
              "      <td>No</td>\n",
              "      <td>3.7/5</td>\n",
              "      <td>41</td>\n",
              "      <td>+91 9535433735</td>\n",
              "      <td>BTM</td>\n",
              "      <td>Casual Dining</td>\n",
              "      <td>Chicken Biryani</td>\n",
              "      <td>Biryani, North Indian</td>\n",
              "      <td>450</td>\n",
              "      <td>[('Rated 1.0', 'RATED\\n  They are frod they ha...</td>\n",
              "      <td>[]</td>\n",
              "      <td>Dine-out</td>\n",
              "      <td>BTM</td>\n",
              "    </tr>\n",
              "    <tr>\n",
              "      <th>28</th>\n",
              "      <td>11 to 11 Express Biriyanis</td>\n",
              "      <td>Near Velankani Bus Stop, Electroniccity Phase ...</td>\n",
              "      <td>[Delivery, Dine-out]</td>\n",
              "      <td>https://www.zomato.com/bangalore/11-to-11-expr...</td>\n",
              "      <td>Yes</td>\n",
              "      <td>No</td>\n",
              "      <td>3.5/5</td>\n",
              "      <td>22</td>\n",
              "      <td>+91 9148533399</td>\n",
              "      <td>Electronic City</td>\n",
              "      <td>Quick Bites</td>\n",
              "      <td>NaN</td>\n",
              "      <td>Biryani, Kebab</td>\n",
              "      <td>300</td>\n",
              "      <td>[('Rated 1.0', 'RATED\\n  Food quantity is not ...</td>\n",
              "      <td>[]</td>\n",
              "      <td>Delivery</td>\n",
              "      <td>Electronic City</td>\n",
              "    </tr>\n",
              "    <tr>\n",
              "      <th>29</th>\n",
              "      <td>11 to 11 Express Biriyanis</td>\n",
              "      <td>Near Velankani Bus Stop, Electroniccity Phase ...</td>\n",
              "      <td>[Delivery, Dine-out]</td>\n",
              "      <td>https://www.zomato.com/bangalore/11-to-11-expr...</td>\n",
              "      <td>Yes</td>\n",
              "      <td>No</td>\n",
              "      <td>3.5/5</td>\n",
              "      <td>22</td>\n",
              "      <td>+91 9148533399</td>\n",
              "      <td>Electronic City</td>\n",
              "      <td>Quick Bites</td>\n",
              "      <td>NaN</td>\n",
              "      <td>Biryani, Kebab</td>\n",
              "      <td>300</td>\n",
              "      <td>[('Rated 1.0', 'RATED\\n  Food quantity is not ...</td>\n",
              "      <td>[]</td>\n",
              "      <td>Dine-out</td>\n",
              "      <td>Electronic City</td>\n",
              "    </tr>\n",
              "    <tr>\n",
              "      <th>30</th>\n",
              "      <td>1131 Bar + Kitchen</td>\n",
              "      <td>100 Feet Road, HAL 2nd Stage, Indiranagar, Ban...</td>\n",
              "      <td>[Dine-out, Drinks &amp; nightlife, Pubs and bars, ...</td>\n",
              "      <td>https://www.zomato.com/bangalore/1131-bar-kitc...</td>\n",
              "      <td>No</td>\n",
              "      <td>Yes</td>\n",
              "      <td>4.6/5</td>\n",
              "      <td>2785</td>\n",
              "      <td>080 49652166</td>\n",
              "      <td>Indiranagar</td>\n",
              "      <td>Bar, Casual Dining</td>\n",
              "      <td>Pizza, Chocolate Cake, Cocktails, Beer, Nachos...</td>\n",
              "      <td>Continental, Asian, Italian, North Indian</td>\n",
              "      <td>1,500</td>\n",
              "      <td>[('Rated 5.0', \"RATED\\n  A place with a beauti...</td>\n",
              "      <td>[]</td>\n",
              "      <td>Dine-out</td>\n",
              "      <td>Indiranagar</td>\n",
              "    </tr>\n",
              "    <tr>\n",
              "      <th>31</th>\n",
              "      <td>1131 Bar + Kitchen</td>\n",
              "      <td>100 Feet Road, HAL 2nd Stage, Indiranagar, Ban...</td>\n",
              "      <td>[Dine-out, Drinks &amp; nightlife, Pubs and bars, ...</td>\n",
              "      <td>https://www.zomato.com/bangalore/1131-bar-kitc...</td>\n",
              "      <td>No</td>\n",
              "      <td>Yes</td>\n",
              "      <td>4.6/5</td>\n",
              "      <td>2785</td>\n",
              "      <td>080 49652166</td>\n",
              "      <td>Indiranagar</td>\n",
              "      <td>Bar, Casual Dining</td>\n",
              "      <td>Pizza, Chocolate Cake, Cocktails, Beer, Nachos...</td>\n",
              "      <td>Continental, Asian, Italian, North Indian</td>\n",
              "      <td>1,500</td>\n",
              "      <td>[('Rated 5.0', 'RATED\\n  This rooftop restaura...</td>\n",
              "      <td>[]</td>\n",
              "      <td>Drinks &amp; nightlife</td>\n",
              "      <td>Indiranagar</td>\n",
              "    </tr>\n",
              "    <tr>\n",
              "      <th>32</th>\n",
              "      <td>1131 Bar + Kitchen</td>\n",
              "      <td>100 Feet Road, HAL 2nd Stage, Indiranagar, Ban...</td>\n",
              "      <td>[Dine-out, Drinks &amp; nightlife, Pubs and bars, ...</td>\n",
              "      <td>https://www.zomato.com/bangalore/1131-bar-kitc...</td>\n",
              "      <td>No</td>\n",
              "      <td>Yes</td>\n",
              "      <td>4.6/5</td>\n",
              "      <td>2785</td>\n",
              "      <td>080 49652166</td>\n",
              "      <td>Indiranagar</td>\n",
              "      <td>Bar, Casual Dining</td>\n",
              "      <td>Pizza, Chocolate Cake, Cocktails, Beer, Nachos...</td>\n",
              "      <td>Continental, Asian, Italian, North Indian</td>\n",
              "      <td>1,500</td>\n",
              "      <td>[('Rated 5.0', 'RATED\\n  This rooftop restaura...</td>\n",
              "      <td>[]</td>\n",
              "      <td>Pubs and bars</td>\n",
              "      <td>Indiranagar</td>\n",
              "    </tr>\n",
              "    <tr>\n",
              "      <th>36</th>\n",
              "      <td>12th Main - Grand Mercure</td>\n",
              "      <td>Grand Mercure, 12th Main, 3rd Block, Koramanga...</td>\n",
              "      <td>[Buffet, Dine-out, Buffet, Dine-out, Buffet, D...</td>\n",
              "      <td>https://www.zomato.com/bangalore/12th-main-gra...</td>\n",
              "      <td>No</td>\n",
              "      <td>Yes</td>\n",
              "      <td>4.1/5</td>\n",
              "      <td>353</td>\n",
              "      <td>080 45121638\\r\\n080 45121212</td>\n",
              "      <td>Koramangala 3rd Block</td>\n",
              "      <td>Fine Dining</td>\n",
              "      <td>Halwa, Waffles, Chaat, Pasta, Coffee, Creme Br...</td>\n",
              "      <td>European, Asian</td>\n",
              "      <td>2,000</td>\n",
              "      <td>[('Rated 2.0', 'RATED\\n  Went here recently fo...</td>\n",
              "      <td>[]</td>\n",
              "      <td>Buffet</td>\n",
              "      <td>BTM</td>\n",
              "    </tr>\n",
              "    <tr>\n",
              "      <th>37</th>\n",
              "      <td>12th Main - Grand Mercure</td>\n",
              "      <td>Grand Mercure, 12th Main, 3rd Block, Koramanga...</td>\n",
              "      <td>[Buffet, Dine-out, Buffet, Dine-out, Buffet, D...</td>\n",
              "      <td>https://www.zomato.com/bangalore/12th-main-gra...</td>\n",
              "      <td>No</td>\n",
              "      <td>Yes</td>\n",
              "      <td>4.1/5</td>\n",
              "      <td>353</td>\n",
              "      <td>080 45121638\\r\\r\\n080 45121212</td>\n",
              "      <td>Koramangala 3rd Block</td>\n",
              "      <td>Fine Dining</td>\n",
              "      <td>Halwa, Waffles, Chaat, Pasta, Coffee, Creme Br...</td>\n",
              "      <td>European, Asian</td>\n",
              "      <td>2,000</td>\n",
              "      <td>[('Rated 2.0', 'RATED\\n  Went here recently fo...</td>\n",
              "      <td>[]</td>\n",
              "      <td>Dine-out</td>\n",
              "      <td>BTM</td>\n",
              "    </tr>\n",
              "  </tbody>\n",
              "</table>\n",
              "</div>"
            ],
            "text/plain": [
              "                                    name  \\\n",
              "0                           #FeelTheROLL   \n",
              "2                             #L-81 Cafe   \n",
              "3                             #L-81 Cafe   \n",
              "11                         #Vibes Restro   \n",
              "12                         #Vibes Restro   \n",
              "13                         #Vibes Restro   \n",
              "14                               #refuel   \n",
              "15                               #refuel   \n",
              "16                               #refuel   \n",
              "17                'Brahmins' Thatte Idli   \n",
              "18                           1 Fahreheit   \n",
              "19                              1000 B.C   \n",
              "25  100ÃÂÃÂÃÂÃÂÃÂÃÂÃÂÃÂ°C   \n",
              "28            11 to 11 Express Biriyanis   \n",
              "29            11 to 11 Express Biriyanis   \n",
              "30                    1131 Bar + Kitchen   \n",
              "31                    1131 Bar + Kitchen   \n",
              "32                    1131 Bar + Kitchen   \n",
              "36             12th Main - Grand Mercure   \n",
              "37             12th Main - Grand Mercure   \n",
              "\n",
              "                                              address  \\\n",
              "0   Opposite Mantri Commercio, Outer Ring Road, De...   \n",
              "2                           Sector 6, HSR Layout, HSR   \n",
              "3                           Sector 6, HSR Layout, HSR   \n",
              "11  Marasur Gate, Chandapura - Anekal Road, Near A...   \n",
              "12  Marasur Gate, Chandapura - Anekal Road, Near A...   \n",
              "13  Marasur Gate, Chandapura - Anekal Road, Near A...   \n",
              "14  7, Ground Floor, RR Commercial Complex, Akshay...   \n",
              "15  7, Ground Floor, RR Commercial Complex, Akshay...   \n",
              "16  7, Ground Floor, RR Commercial Complex, Akshay...   \n",
              "17  19, 1st main, 2nd cross, 3rd stage, 3rd block,...   \n",
              "18  Nishika Arcade, Nanjappa Main Road, Next to Jo...   \n",
              "19  16, 17th A Main, Koramangala 5th Block, Bangalore   \n",
              "25  688, Thanish Corner, 7th Main, 10th Cross, 2nd...   \n",
              "28  Near Velankani Bus Stop, Electroniccity Phase ...   \n",
              "29  Near Velankani Bus Stop, Electroniccity Phase ...   \n",
              "30  100 Feet Road, HAL 2nd Stage, Indiranagar, Ban...   \n",
              "31  100 Feet Road, HAL 2nd Stage, Indiranagar, Ban...   \n",
              "32  100 Feet Road, HAL 2nd Stage, Indiranagar, Ban...   \n",
              "36  Grand Mercure, 12th Main, 3rd Block, Koramanga...   \n",
              "37  Grand Mercure, 12th Main, 3rd Block, Koramanga...   \n",
              "\n",
              "                                    listed_in(type)_x  \\\n",
              "0                                [Delivery, Delivery]   \n",
              "2   [Delivery, Dine-out, Delivery, Dine-out, Deliv...   \n",
              "3   [Delivery, Dine-out, Delivery, Dine-out, Deliv...   \n",
              "11                       [Buffet, Delivery, Dine-out]   \n",
              "12                       [Buffet, Delivery, Dine-out]   \n",
              "13                       [Buffet, Delivery, Dine-out]   \n",
              "14                        [Cafes, Delivery, Dine-out]   \n",
              "15                        [Cafes, Delivery, Dine-out]   \n",
              "16                        [Cafes, Delivery, Dine-out]   \n",
              "17                                         [Dine-out]   \n",
              "18                                         [Desserts]   \n",
              "19  [Delivery, Delivery, Delivery, Delivery, Deliv...   \n",
              "25                     [Dine-out, Dine-out, Dine-out]   \n",
              "28                               [Delivery, Dine-out]   \n",
              "29                               [Delivery, Dine-out]   \n",
              "30  [Dine-out, Drinks & nightlife, Pubs and bars, ...   \n",
              "31  [Dine-out, Drinks & nightlife, Pubs and bars, ...   \n",
              "32  [Dine-out, Drinks & nightlife, Pubs and bars, ...   \n",
              "36  [Buffet, Dine-out, Buffet, Dine-out, Buffet, D...   \n",
              "37  [Buffet, Dine-out, Buffet, Dine-out, Buffet, D...   \n",
              "\n",
              "                                                  url online_order book_table  \\\n",
              "0   https://www.zomato.com/bangalore/feeltheroll-b...           No         No   \n",
              "2   https://www.zomato.com/bangalore/l-81-cafe-hsr...          Yes         No   \n",
              "3   https://www.zomato.com/bangalore/l-81-cafe-hsr...          Yes         No   \n",
              "11  https://www.zomato.com/bangalore/vibes-restro-...           No         No   \n",
              "12  https://www.zomato.com/bangalore/vibes-restro-...           No         No   \n",
              "13  https://www.zomato.com/bangalore/vibes-restro-...           No         No   \n",
              "14  https://www.zomato.com/bangalore/refuel-banner...          Yes         No   \n",
              "15  https://www.zomato.com/bangalore/refuel-banner...          Yes         No   \n",
              "16  https://www.zomato.com/bangalore/refuel-banner...          Yes         No   \n",
              "17  https://www.zomato.com/bangalore/brahmins-that...          Yes         No   \n",
              "18  https://www.zomato.com/bangalore/1-fahreheit-n...           No         No   \n",
              "19  https://www.zomato.com/bangalore/1000-b-c-kora...          Yes         No   \n",
              "25  https://www.zomato.com/bangalore/100%C2%B0c-bt...           No         No   \n",
              "28  https://www.zomato.com/bangalore/11-to-11-expr...          Yes         No   \n",
              "29  https://www.zomato.com/bangalore/11-to-11-expr...          Yes         No   \n",
              "30  https://www.zomato.com/bangalore/1131-bar-kitc...           No        Yes   \n",
              "31  https://www.zomato.com/bangalore/1131-bar-kitc...           No        Yes   \n",
              "32  https://www.zomato.com/bangalore/1131-bar-kitc...           No        Yes   \n",
              "36  https://www.zomato.com/bangalore/12th-main-gra...           No        Yes   \n",
              "37  https://www.zomato.com/bangalore/12th-main-gra...           No        Yes   \n",
              "\n",
              "     rate  votes                             phone               location  \\\n",
              "0   3.4/5      7  +91 9108342079\\r\\n+91 9886117901              Bellandur   \n",
              "2   3.9/5     48                    +91 9986210891                    HSR   \n",
              "3   3.9/5     48                    +91 9986210891                    HSR   \n",
              "11    NaN      0                    +91 9538911285        Electronic City   \n",
              "12    NaN      0                    +91 9538911285        Electronic City   \n",
              "13    NaN      0                    +91 9538911285        Electronic City   \n",
              "14  3.7/5     37                    +91 8971227222      Bannerghatta Road   \n",
              "15  3.7/5     37                    +91 8971227222      Bannerghatta Road   \n",
              "16  3.7/5     37                    +91 8971227222      Bannerghatta Road   \n",
              "17    NaN      0    +91 9148013543\\n+91 9902102665     Basaveshwara Nagar   \n",
              "18    NaN      0                    +91 8095700987           New BEL Road   \n",
              "19  3.2/5     49                    +91 9620946663  Koramangala 5th Block   \n",
              "25  3.7/5     41                    +91 9535433735                    BTM   \n",
              "28  3.5/5     22                    +91 9148533399        Electronic City   \n",
              "29  3.5/5     22                    +91 9148533399        Electronic City   \n",
              "30  4.6/5   2785                      080 49652166            Indiranagar   \n",
              "31  4.6/5   2785                      080 49652166            Indiranagar   \n",
              "32  4.6/5   2785                      080 49652166            Indiranagar   \n",
              "36  4.1/5    353      080 45121638\\r\\n080 45121212  Koramangala 3rd Block   \n",
              "37  4.1/5    353    080 45121638\\r\\r\\n080 45121212  Koramangala 3rd Block   \n",
              "\n",
              "             rest_type                                         dish_liked  \\\n",
              "0          Quick Bites                                                NaN   \n",
              "2          Quick Bites                                            Burgers   \n",
              "3          Quick Bites                                            Burgers   \n",
              "11       Casual Dining                                                NaN   \n",
              "12       Casual Dining                                                NaN   \n",
              "13       Casual Dining                                                NaN   \n",
              "14                Cafe         Thick Shakes, Sandwiches, Pasta, Mocktails   \n",
              "15                Cafe         Thick Shakes, Sandwiches, Pasta, Mocktails   \n",
              "16                Cafe         Thick Shakes, Sandwiches, Pasta, Mocktails   \n",
              "17         Quick Bites                                                NaN   \n",
              "18      Dessert Parlor                                                NaN   \n",
              "19         Quick Bites                               Shawarma, Sandwiches   \n",
              "25       Casual Dining                                    Chicken Biryani   \n",
              "28         Quick Bites                                                NaN   \n",
              "29         Quick Bites                                                NaN   \n",
              "30  Bar, Casual Dining  Pizza, Chocolate Cake, Cocktails, Beer, Nachos...   \n",
              "31  Bar, Casual Dining  Pizza, Chocolate Cake, Cocktails, Beer, Nachos...   \n",
              "32  Bar, Casual Dining  Pizza, Chocolate Cake, Cocktails, Beer, Nachos...   \n",
              "36         Fine Dining  Halwa, Waffles, Chaat, Pasta, Coffee, Creme Br...   \n",
              "37         Fine Dining  Halwa, Waffles, Chaat, Pasta, Coffee, Creme Br...   \n",
              "\n",
              "                                     cuisines approx_cost(for two people)  \\\n",
              "0                                   Fast Food                         200   \n",
              "2                        Fast Food, Beverages                         400   \n",
              "3                        Fast Food, Beverages                         400   \n",
              "11              Continental, Chinese, Italian                         700   \n",
              "12              Continental, Chinese, Italian                         700   \n",
              "13              Continental, Chinese, Italian                         700   \n",
              "14                            Cafe, Beverages                         400   \n",
              "15                            Cafe, Beverages                         400   \n",
              "16                            Cafe, Beverages                         400   \n",
              "17                               South Indian                         100   \n",
              "18                        Desserts, Ice Cream                         200   \n",
              "19           Arabian, Sandwich, Rolls, Burger                         300   \n",
              "25                      Biryani, North Indian                         450   \n",
              "28                             Biryani, Kebab                         300   \n",
              "29                             Biryani, Kebab                         300   \n",
              "30  Continental, Asian, Italian, North Indian                       1,500   \n",
              "31  Continental, Asian, Italian, North Indian                       1,500   \n",
              "32  Continental, Asian, Italian, North Indian                       1,500   \n",
              "36                            European, Asian                       2,000   \n",
              "37                            European, Asian                       2,000   \n",
              "\n",
              "                                         reviews_list  \\\n",
              "0   [('Rated 5.0', \"RATED\\n  Had an egg chicken ro...   \n",
              "2   [('Rated 4.0', 'RATED\\n  This little cafe is s...   \n",
              "3   [('Rated 4.0', 'RATED\\n  This little cafe is s...   \n",
              "11  [('Rated 5.0', \"RATED\\n  Great service and don...   \n",
              "12  [('Rated 5.0', \"RATED\\n  Great service and don...   \n",
              "13  [('Rated 5.0', \"RATED\\n  Great service and don...   \n",
              "14  [('Rated 3.0', 'RATED\\n  We ordered for Schezw...   \n",
              "15  [('Rated 3.0', 'RATED\\n  We ordered for Schezw...   \n",
              "16  [('Rated 3.0', 'RATED\\n  We ordered for Schezw...   \n",
              "17                                                 []   \n",
              "18  [('Rated 5.0', 'RATED\\n  An awesome place for ...   \n",
              "19  [('Rated 1.0', \"RATED\\n  Ordered a chicken sub...   \n",
              "25  [('Rated 1.0', 'RATED\\n  They are frod they ha...   \n",
              "28  [('Rated 1.0', 'RATED\\n  Food quantity is not ...   \n",
              "29  [('Rated 1.0', 'RATED\\n  Food quantity is not ...   \n",
              "30  [('Rated 5.0', \"RATED\\n  A place with a beauti...   \n",
              "31  [('Rated 5.0', 'RATED\\n  This rooftop restaura...   \n",
              "32  [('Rated 5.0', 'RATED\\n  This rooftop restaura...   \n",
              "36  [('Rated 2.0', 'RATED\\n  Went here recently fo...   \n",
              "37  [('Rated 2.0', 'RATED\\n  Went here recently fo...   \n",
              "\n",
              "                                            menu_item   listed_in(type)_y  \\\n",
              "0                                                  []            Delivery   \n",
              "2                                                  []            Delivery   \n",
              "3                                                  []            Dine-out   \n",
              "11                                                 []              Buffet   \n",
              "12                                                 []            Delivery   \n",
              "13                                                 []            Dine-out   \n",
              "14  ['Kit Kat Thick Shake', 'Ferrero Rocher Thick ...               Cafes   \n",
              "15                                                 []            Delivery   \n",
              "16                                                 []            Dine-out   \n",
              "17  ['Masala Dosa', 'Set Dosa', 'Shavige Bhath', '...            Dine-out   \n",
              "18                                                 []            Desserts   \n",
              "19                                                 []            Delivery   \n",
              "25                                                 []            Dine-out   \n",
              "28                                                 []            Delivery   \n",
              "29                                                 []            Dine-out   \n",
              "30                                                 []            Dine-out   \n",
              "31                                                 []  Drinks & nightlife   \n",
              "32                                                 []       Pubs and bars   \n",
              "36                                                 []              Buffet   \n",
              "37                                                 []            Dine-out   \n",
              "\n",
              "      listed_in(city)  \n",
              "0           Bellandur  \n",
              "2                 BTM  \n",
              "3                 BTM  \n",
              "11    Electronic City  \n",
              "12    Electronic City  \n",
              "13    Electronic City  \n",
              "14  Bannerghatta Road  \n",
              "15  Bannerghatta Road  \n",
              "16  Bannerghatta Road  \n",
              "17        Rajajinagar  \n",
              "18       New BEL Road  \n",
              "19                BTM  \n",
              "25                BTM  \n",
              "28    Electronic City  \n",
              "29    Electronic City  \n",
              "30        Indiranagar  \n",
              "31        Indiranagar  \n",
              "32        Indiranagar  \n",
              "36                BTM  \n",
              "37                BTM  "
            ]
          },
          "execution_count": 23,
          "metadata": {},
          "output_type": "execute_result"
        }
      ],
      "source": [
        "newData.head(20)"
      ]
    },
    {
      "cell_type": "code",
      "execution_count": null,
      "id": "8dd235c7",
      "metadata": {
        "id": "8dd235c7"
      },
      "outputs": [],
      "source": [
        "newData = newData.reset_index(drop = True)"
      ]
    },
    {
      "cell_type": "code",
      "execution_count": null,
      "id": "29bd4934",
      "metadata": {
        "id": "29bd4934",
        "outputId": "9d95fcd2-4131-4096-9139-d79e246af027"
      },
      "outputs": [
        {
          "data": {
            "text/html": [
              "<div>\n",
              "<style scoped>\n",
              "    .dataframe tbody tr th:only-of-type {\n",
              "        vertical-align: middle;\n",
              "    }\n",
              "\n",
              "    .dataframe tbody tr th {\n",
              "        vertical-align: top;\n",
              "    }\n",
              "\n",
              "    .dataframe thead th {\n",
              "        text-align: right;\n",
              "    }\n",
              "</style>\n",
              "<table border=\"1\" class=\"dataframe\">\n",
              "  <thead>\n",
              "    <tr style=\"text-align: right;\">\n",
              "      <th></th>\n",
              "      <th>name</th>\n",
              "      <th>address</th>\n",
              "      <th>listed_in(type)_x</th>\n",
              "      <th>url</th>\n",
              "      <th>online_order</th>\n",
              "      <th>book_table</th>\n",
              "      <th>rate</th>\n",
              "      <th>votes</th>\n",
              "      <th>phone</th>\n",
              "      <th>location</th>\n",
              "      <th>rest_type</th>\n",
              "      <th>dish_liked</th>\n",
              "      <th>cuisines</th>\n",
              "      <th>approx_cost(for two people)</th>\n",
              "      <th>reviews_list</th>\n",
              "      <th>menu_item</th>\n",
              "      <th>listed_in(type)_y</th>\n",
              "      <th>listed_in(city)</th>\n",
              "    </tr>\n",
              "  </thead>\n",
              "  <tbody>\n",
              "    <tr>\n",
              "      <th>0</th>\n",
              "      <td>#FeelTheROLL</td>\n",
              "      <td>Opposite Mantri Commercio, Outer Ring Road, De...</td>\n",
              "      <td>[Delivery, Delivery]</td>\n",
              "      <td>https://www.zomato.com/bangalore/feeltheroll-b...</td>\n",
              "      <td>No</td>\n",
              "      <td>No</td>\n",
              "      <td>3.4/5</td>\n",
              "      <td>7</td>\n",
              "      <td>+91 9108342079\\r\\n+91 9886117901</td>\n",
              "      <td>Bellandur</td>\n",
              "      <td>Quick Bites</td>\n",
              "      <td>NaN</td>\n",
              "      <td>Fast Food</td>\n",
              "      <td>200</td>\n",
              "      <td>[('Rated 5.0', \"RATED\\n  Had an egg chicken ro...</td>\n",
              "      <td>[]</td>\n",
              "      <td>Delivery</td>\n",
              "      <td>Bellandur</td>\n",
              "    </tr>\n",
              "    <tr>\n",
              "      <th>1</th>\n",
              "      <td>#L-81 Cafe</td>\n",
              "      <td>Sector 6, HSR Layout, HSR</td>\n",
              "      <td>[Delivery, Dine-out, Delivery, Dine-out, Deliv...</td>\n",
              "      <td>https://www.zomato.com/bangalore/l-81-cafe-hsr...</td>\n",
              "      <td>Yes</td>\n",
              "      <td>No</td>\n",
              "      <td>3.9/5</td>\n",
              "      <td>48</td>\n",
              "      <td>+91 9986210891</td>\n",
              "      <td>HSR</td>\n",
              "      <td>Quick Bites</td>\n",
              "      <td>Burgers</td>\n",
              "      <td>Fast Food, Beverages</td>\n",
              "      <td>400</td>\n",
              "      <td>[('Rated 4.0', 'RATED\\n  This little cafe is s...</td>\n",
              "      <td>[]</td>\n",
              "      <td>Delivery</td>\n",
              "      <td>BTM</td>\n",
              "    </tr>\n",
              "    <tr>\n",
              "      <th>2</th>\n",
              "      <td>#L-81 Cafe</td>\n",
              "      <td>Sector 6, HSR Layout, HSR</td>\n",
              "      <td>[Delivery, Dine-out, Delivery, Dine-out, Deliv...</td>\n",
              "      <td>https://www.zomato.com/bangalore/l-81-cafe-hsr...</td>\n",
              "      <td>Yes</td>\n",
              "      <td>No</td>\n",
              "      <td>3.9/5</td>\n",
              "      <td>48</td>\n",
              "      <td>+91 9986210891</td>\n",
              "      <td>HSR</td>\n",
              "      <td>Quick Bites</td>\n",
              "      <td>Burgers</td>\n",
              "      <td>Fast Food, Beverages</td>\n",
              "      <td>400</td>\n",
              "      <td>[('Rated 4.0', 'RATED\\n  This little cafe is s...</td>\n",
              "      <td>[]</td>\n",
              "      <td>Dine-out</td>\n",
              "      <td>BTM</td>\n",
              "    </tr>\n",
              "    <tr>\n",
              "      <th>3</th>\n",
              "      <td>#Vibes Restro</td>\n",
              "      <td>Marasur Gate, Chandapura - Anekal Road, Near A...</td>\n",
              "      <td>[Buffet, Delivery, Dine-out]</td>\n",
              "      <td>https://www.zomato.com/bangalore/vibes-restro-...</td>\n",
              "      <td>No</td>\n",
              "      <td>No</td>\n",
              "      <td>NaN</td>\n",
              "      <td>0</td>\n",
              "      <td>+91 9538911285</td>\n",
              "      <td>Electronic City</td>\n",
              "      <td>Casual Dining</td>\n",
              "      <td>NaN</td>\n",
              "      <td>Continental, Chinese, Italian</td>\n",
              "      <td>700</td>\n",
              "      <td>[('Rated 5.0', \"RATED\\n  Great service and don...</td>\n",
              "      <td>[]</td>\n",
              "      <td>Buffet</td>\n",
              "      <td>Electronic City</td>\n",
              "    </tr>\n",
              "    <tr>\n",
              "      <th>4</th>\n",
              "      <td>#Vibes Restro</td>\n",
              "      <td>Marasur Gate, Chandapura - Anekal Road, Near A...</td>\n",
              "      <td>[Buffet, Delivery, Dine-out]</td>\n",
              "      <td>https://www.zomato.com/bangalore/vibes-restro-...</td>\n",
              "      <td>No</td>\n",
              "      <td>No</td>\n",
              "      <td>NaN</td>\n",
              "      <td>0</td>\n",
              "      <td>+91 9538911285</td>\n",
              "      <td>Electronic City</td>\n",
              "      <td>Casual Dining</td>\n",
              "      <td>NaN</td>\n",
              "      <td>Continental, Chinese, Italian</td>\n",
              "      <td>700</td>\n",
              "      <td>[('Rated 5.0', \"RATED\\n  Great service and don...</td>\n",
              "      <td>[]</td>\n",
              "      <td>Delivery</td>\n",
              "      <td>Electronic City</td>\n",
              "    </tr>\n",
              "  </tbody>\n",
              "</table>\n",
              "</div>"
            ],
            "text/plain": [
              "            name                                            address  \\\n",
              "0   #FeelTheROLL  Opposite Mantri Commercio, Outer Ring Road, De...   \n",
              "1     #L-81 Cafe                          Sector 6, HSR Layout, HSR   \n",
              "2     #L-81 Cafe                          Sector 6, HSR Layout, HSR   \n",
              "3  #Vibes Restro  Marasur Gate, Chandapura - Anekal Road, Near A...   \n",
              "4  #Vibes Restro  Marasur Gate, Chandapura - Anekal Road, Near A...   \n",
              "\n",
              "                                   listed_in(type)_x  \\\n",
              "0                               [Delivery, Delivery]   \n",
              "1  [Delivery, Dine-out, Delivery, Dine-out, Deliv...   \n",
              "2  [Delivery, Dine-out, Delivery, Dine-out, Deliv...   \n",
              "3                       [Buffet, Delivery, Dine-out]   \n",
              "4                       [Buffet, Delivery, Dine-out]   \n",
              "\n",
              "                                                 url online_order book_table  \\\n",
              "0  https://www.zomato.com/bangalore/feeltheroll-b...           No         No   \n",
              "1  https://www.zomato.com/bangalore/l-81-cafe-hsr...          Yes         No   \n",
              "2  https://www.zomato.com/bangalore/l-81-cafe-hsr...          Yes         No   \n",
              "3  https://www.zomato.com/bangalore/vibes-restro-...           No         No   \n",
              "4  https://www.zomato.com/bangalore/vibes-restro-...           No         No   \n",
              "\n",
              "    rate  votes                             phone         location  \\\n",
              "0  3.4/5      7  +91 9108342079\\r\\n+91 9886117901        Bellandur   \n",
              "1  3.9/5     48                    +91 9986210891              HSR   \n",
              "2  3.9/5     48                    +91 9986210891              HSR   \n",
              "3    NaN      0                    +91 9538911285  Electronic City   \n",
              "4    NaN      0                    +91 9538911285  Electronic City   \n",
              "\n",
              "       rest_type dish_liked                       cuisines  \\\n",
              "0    Quick Bites        NaN                      Fast Food   \n",
              "1    Quick Bites    Burgers           Fast Food, Beverages   \n",
              "2    Quick Bites    Burgers           Fast Food, Beverages   \n",
              "3  Casual Dining        NaN  Continental, Chinese, Italian   \n",
              "4  Casual Dining        NaN  Continental, Chinese, Italian   \n",
              "\n",
              "  approx_cost(for two people)  \\\n",
              "0                         200   \n",
              "1                         400   \n",
              "2                         400   \n",
              "3                         700   \n",
              "4                         700   \n",
              "\n",
              "                                        reviews_list menu_item  \\\n",
              "0  [('Rated 5.0', \"RATED\\n  Had an egg chicken ro...        []   \n",
              "1  [('Rated 4.0', 'RATED\\n  This little cafe is s...        []   \n",
              "2  [('Rated 4.0', 'RATED\\n  This little cafe is s...        []   \n",
              "3  [('Rated 5.0', \"RATED\\n  Great service and don...        []   \n",
              "4  [('Rated 5.0', \"RATED\\n  Great service and don...        []   \n",
              "\n",
              "  listed_in(type)_y  listed_in(city)  \n",
              "0          Delivery        Bellandur  \n",
              "1          Delivery              BTM  \n",
              "2          Dine-out              BTM  \n",
              "3            Buffet  Electronic City  \n",
              "4          Delivery  Electronic City  "
            ]
          },
          "execution_count": 25,
          "metadata": {},
          "output_type": "execute_result"
        }
      ],
      "source": [
        "newData.head()"
      ]
    },
    {
      "cell_type": "code",
      "execution_count": null,
      "id": "d3549dd0",
      "metadata": {
        "id": "d3549dd0",
        "outputId": "c22ceca0-c4ed-4871-faf4-038fc82eb12b"
      },
      "outputs": [
        {
          "data": {
            "text/plain": [
              "name                           object\n",
              "address                        object\n",
              "listed_in(type)_x              object\n",
              "url                            object\n",
              "online_order                   object\n",
              "book_table                     object\n",
              "rate                           object\n",
              "votes                           int64\n",
              "phone                          object\n",
              "location                       object\n",
              "rest_type                      object\n",
              "dish_liked                     object\n",
              "cuisines                       object\n",
              "approx_cost(for two people)    object\n",
              "reviews_list                   object\n",
              "menu_item                      object\n",
              "listed_in(type)_y              object\n",
              "listed_in(city)                object\n",
              "dtype: object"
            ]
          },
          "execution_count": 26,
          "metadata": {},
          "output_type": "execute_result"
        }
      ],
      "source": [
        "newData.dtypes"
      ]
    },
    {
      "cell_type": "code",
      "execution_count": null,
      "id": "7281e1a6",
      "metadata": {
        "id": "7281e1a6",
        "outputId": "fee5f74c-445c-4097-b029-fc2892b76b5f"
      },
      "outputs": [
        {
          "data": {
            "text/plain": [
              "<bound method Series.unique of 0         3.4/5\n",
              "1         3.9/5\n",
              "2         3.9/5\n",
              "3           NaN\n",
              "4           NaN\n",
              "          ...  \n",
              "20910    4.1 /5\n",
              "20911    4.1 /5\n",
              "20912       NaN\n",
              "20913       NaN\n",
              "20914       NaN\n",
              "Name: rate, Length: 20915, dtype: object>"
            ]
          },
          "execution_count": 27,
          "metadata": {},
          "output_type": "execute_result"
        }
      ],
      "source": [
        "newData['rate'].unique"
      ]
    },
    {
      "cell_type": "code",
      "execution_count": null,
      "id": "2e7913eb",
      "metadata": {
        "id": "2e7913eb"
      },
      "outputs": [],
      "source": [
        "newData['rating'] = newData['rate'].str[:3]"
      ]
    },
    {
      "cell_type": "code",
      "execution_count": null,
      "id": "301202e0",
      "metadata": {
        "id": "301202e0",
        "outputId": "47cf130b-cbbd-4d0a-f26f-f92113f81c9b"
      },
      "outputs": [
        {
          "data": {
            "text/html": [
              "<div>\n",
              "<style scoped>\n",
              "    .dataframe tbody tr th:only-of-type {\n",
              "        vertical-align: middle;\n",
              "    }\n",
              "\n",
              "    .dataframe tbody tr th {\n",
              "        vertical-align: top;\n",
              "    }\n",
              "\n",
              "    .dataframe thead th {\n",
              "        text-align: right;\n",
              "    }\n",
              "</style>\n",
              "<table border=\"1\" class=\"dataframe\">\n",
              "  <thead>\n",
              "    <tr style=\"text-align: right;\">\n",
              "      <th></th>\n",
              "      <th>name</th>\n",
              "      <th>address</th>\n",
              "      <th>listed_in(type)_x</th>\n",
              "      <th>url</th>\n",
              "      <th>online_order</th>\n",
              "      <th>book_table</th>\n",
              "      <th>rate</th>\n",
              "      <th>votes</th>\n",
              "      <th>phone</th>\n",
              "      <th>location</th>\n",
              "      <th>rest_type</th>\n",
              "      <th>dish_liked</th>\n",
              "      <th>cuisines</th>\n",
              "      <th>approx_cost(for two people)</th>\n",
              "      <th>reviews_list</th>\n",
              "      <th>menu_item</th>\n",
              "      <th>listed_in(type)_y</th>\n",
              "      <th>listed_in(city)</th>\n",
              "      <th>rating</th>\n",
              "    </tr>\n",
              "  </thead>\n",
              "  <tbody>\n",
              "    <tr>\n",
              "      <th>0</th>\n",
              "      <td>#FeelTheROLL</td>\n",
              "      <td>Opposite Mantri Commercio, Outer Ring Road, De...</td>\n",
              "      <td>[Delivery, Delivery]</td>\n",
              "      <td>https://www.zomato.com/bangalore/feeltheroll-b...</td>\n",
              "      <td>No</td>\n",
              "      <td>No</td>\n",
              "      <td>3.4/5</td>\n",
              "      <td>7</td>\n",
              "      <td>+91 9108342079\\r\\n+91 9886117901</td>\n",
              "      <td>Bellandur</td>\n",
              "      <td>Quick Bites</td>\n",
              "      <td>NaN</td>\n",
              "      <td>Fast Food</td>\n",
              "      <td>200</td>\n",
              "      <td>[('Rated 5.0', \"RATED\\n  Had an egg chicken ro...</td>\n",
              "      <td>[]</td>\n",
              "      <td>Delivery</td>\n",
              "      <td>Bellandur</td>\n",
              "      <td>3.4</td>\n",
              "    </tr>\n",
              "    <tr>\n",
              "      <th>1</th>\n",
              "      <td>#L-81 Cafe</td>\n",
              "      <td>Sector 6, HSR Layout, HSR</td>\n",
              "      <td>[Delivery, Dine-out, Delivery, Dine-out, Deliv...</td>\n",
              "      <td>https://www.zomato.com/bangalore/l-81-cafe-hsr...</td>\n",
              "      <td>Yes</td>\n",
              "      <td>No</td>\n",
              "      <td>3.9/5</td>\n",
              "      <td>48</td>\n",
              "      <td>+91 9986210891</td>\n",
              "      <td>HSR</td>\n",
              "      <td>Quick Bites</td>\n",
              "      <td>Burgers</td>\n",
              "      <td>Fast Food, Beverages</td>\n",
              "      <td>400</td>\n",
              "      <td>[('Rated 4.0', 'RATED\\n  This little cafe is s...</td>\n",
              "      <td>[]</td>\n",
              "      <td>Delivery</td>\n",
              "      <td>BTM</td>\n",
              "      <td>3.9</td>\n",
              "    </tr>\n",
              "    <tr>\n",
              "      <th>2</th>\n",
              "      <td>#L-81 Cafe</td>\n",
              "      <td>Sector 6, HSR Layout, HSR</td>\n",
              "      <td>[Delivery, Dine-out, Delivery, Dine-out, Deliv...</td>\n",
              "      <td>https://www.zomato.com/bangalore/l-81-cafe-hsr...</td>\n",
              "      <td>Yes</td>\n",
              "      <td>No</td>\n",
              "      <td>3.9/5</td>\n",
              "      <td>48</td>\n",
              "      <td>+91 9986210891</td>\n",
              "      <td>HSR</td>\n",
              "      <td>Quick Bites</td>\n",
              "      <td>Burgers</td>\n",
              "      <td>Fast Food, Beverages</td>\n",
              "      <td>400</td>\n",
              "      <td>[('Rated 4.0', 'RATED\\n  This little cafe is s...</td>\n",
              "      <td>[]</td>\n",
              "      <td>Dine-out</td>\n",
              "      <td>BTM</td>\n",
              "      <td>3.9</td>\n",
              "    </tr>\n",
              "    <tr>\n",
              "      <th>3</th>\n",
              "      <td>#Vibes Restro</td>\n",
              "      <td>Marasur Gate, Chandapura - Anekal Road, Near A...</td>\n",
              "      <td>[Buffet, Delivery, Dine-out]</td>\n",
              "      <td>https://www.zomato.com/bangalore/vibes-restro-...</td>\n",
              "      <td>No</td>\n",
              "      <td>No</td>\n",
              "      <td>NaN</td>\n",
              "      <td>0</td>\n",
              "      <td>+91 9538911285</td>\n",
              "      <td>Electronic City</td>\n",
              "      <td>Casual Dining</td>\n",
              "      <td>NaN</td>\n",
              "      <td>Continental, Chinese, Italian</td>\n",
              "      <td>700</td>\n",
              "      <td>[('Rated 5.0', \"RATED\\n  Great service and don...</td>\n",
              "      <td>[]</td>\n",
              "      <td>Buffet</td>\n",
              "      <td>Electronic City</td>\n",
              "      <td>NaN</td>\n",
              "    </tr>\n",
              "    <tr>\n",
              "      <th>4</th>\n",
              "      <td>#Vibes Restro</td>\n",
              "      <td>Marasur Gate, Chandapura - Anekal Road, Near A...</td>\n",
              "      <td>[Buffet, Delivery, Dine-out]</td>\n",
              "      <td>https://www.zomato.com/bangalore/vibes-restro-...</td>\n",
              "      <td>No</td>\n",
              "      <td>No</td>\n",
              "      <td>NaN</td>\n",
              "      <td>0</td>\n",
              "      <td>+91 9538911285</td>\n",
              "      <td>Electronic City</td>\n",
              "      <td>Casual Dining</td>\n",
              "      <td>NaN</td>\n",
              "      <td>Continental, Chinese, Italian</td>\n",
              "      <td>700</td>\n",
              "      <td>[('Rated 5.0', \"RATED\\n  Great service and don...</td>\n",
              "      <td>[]</td>\n",
              "      <td>Delivery</td>\n",
              "      <td>Electronic City</td>\n",
              "      <td>NaN</td>\n",
              "    </tr>\n",
              "  </tbody>\n",
              "</table>\n",
              "</div>"
            ],
            "text/plain": [
              "            name                                            address  \\\n",
              "0   #FeelTheROLL  Opposite Mantri Commercio, Outer Ring Road, De...   \n",
              "1     #L-81 Cafe                          Sector 6, HSR Layout, HSR   \n",
              "2     #L-81 Cafe                          Sector 6, HSR Layout, HSR   \n",
              "3  #Vibes Restro  Marasur Gate, Chandapura - Anekal Road, Near A...   \n",
              "4  #Vibes Restro  Marasur Gate, Chandapura - Anekal Road, Near A...   \n",
              "\n",
              "                                   listed_in(type)_x  \\\n",
              "0                               [Delivery, Delivery]   \n",
              "1  [Delivery, Dine-out, Delivery, Dine-out, Deliv...   \n",
              "2  [Delivery, Dine-out, Delivery, Dine-out, Deliv...   \n",
              "3                       [Buffet, Delivery, Dine-out]   \n",
              "4                       [Buffet, Delivery, Dine-out]   \n",
              "\n",
              "                                                 url online_order book_table  \\\n",
              "0  https://www.zomato.com/bangalore/feeltheroll-b...           No         No   \n",
              "1  https://www.zomato.com/bangalore/l-81-cafe-hsr...          Yes         No   \n",
              "2  https://www.zomato.com/bangalore/l-81-cafe-hsr...          Yes         No   \n",
              "3  https://www.zomato.com/bangalore/vibes-restro-...           No         No   \n",
              "4  https://www.zomato.com/bangalore/vibes-restro-...           No         No   \n",
              "\n",
              "    rate  votes                             phone         location  \\\n",
              "0  3.4/5      7  +91 9108342079\\r\\n+91 9886117901        Bellandur   \n",
              "1  3.9/5     48                    +91 9986210891              HSR   \n",
              "2  3.9/5     48                    +91 9986210891              HSR   \n",
              "3    NaN      0                    +91 9538911285  Electronic City   \n",
              "4    NaN      0                    +91 9538911285  Electronic City   \n",
              "\n",
              "       rest_type dish_liked                       cuisines  \\\n",
              "0    Quick Bites        NaN                      Fast Food   \n",
              "1    Quick Bites    Burgers           Fast Food, Beverages   \n",
              "2    Quick Bites    Burgers           Fast Food, Beverages   \n",
              "3  Casual Dining        NaN  Continental, Chinese, Italian   \n",
              "4  Casual Dining        NaN  Continental, Chinese, Italian   \n",
              "\n",
              "  approx_cost(for two people)  \\\n",
              "0                         200   \n",
              "1                         400   \n",
              "2                         400   \n",
              "3                         700   \n",
              "4                         700   \n",
              "\n",
              "                                        reviews_list menu_item  \\\n",
              "0  [('Rated 5.0', \"RATED\\n  Had an egg chicken ro...        []   \n",
              "1  [('Rated 4.0', 'RATED\\n  This little cafe is s...        []   \n",
              "2  [('Rated 4.0', 'RATED\\n  This little cafe is s...        []   \n",
              "3  [('Rated 5.0', \"RATED\\n  Great service and don...        []   \n",
              "4  [('Rated 5.0', \"RATED\\n  Great service and don...        []   \n",
              "\n",
              "  listed_in(type)_y  listed_in(city) rating  \n",
              "0          Delivery        Bellandur    3.4  \n",
              "1          Delivery              BTM    3.9  \n",
              "2          Dine-out              BTM    3.9  \n",
              "3            Buffet  Electronic City    NaN  \n",
              "4          Delivery  Electronic City    NaN  "
            ]
          },
          "execution_count": 29,
          "metadata": {},
          "output_type": "execute_result"
        }
      ],
      "source": [
        "newData.head()"
      ]
    },
    {
      "cell_type": "code",
      "execution_count": null,
      "id": "3b22897b",
      "metadata": {
        "id": "3b22897b"
      },
      "outputs": [],
      "source": [
        "newData['rating'].replace('NEW', 0, inplace=True)\n",
        "newData['rating'].replace('-', 0, inplace=True)"
      ]
    },
    {
      "cell_type": "code",
      "execution_count": null,
      "id": "5a1c15a2",
      "metadata": {
        "id": "5a1c15a2",
        "outputId": "80b2bdcd-7164-4b53-8d67-dc3d0cc6eb83"
      },
      "outputs": [
        {
          "data": {
            "text/plain": [
              "name                           object\n",
              "address                        object\n",
              "listed_in(type)_x              object\n",
              "url                            object\n",
              "online_order                   object\n",
              "book_table                     object\n",
              "rate                           object\n",
              "votes                           int64\n",
              "phone                          object\n",
              "location                       object\n",
              "rest_type                      object\n",
              "dish_liked                     object\n",
              "cuisines                       object\n",
              "approx_cost(for two people)    object\n",
              "reviews_list                   object\n",
              "menu_item                      object\n",
              "listed_in(type)_y              object\n",
              "listed_in(city)                object\n",
              "rating                         object\n",
              "dtype: object"
            ]
          },
          "execution_count": 31,
          "metadata": {},
          "output_type": "execute_result"
        }
      ],
      "source": [
        "newData.dtypes"
      ]
    },
    {
      "cell_type": "markdown",
      "id": "2e6d628c",
      "metadata": {
        "id": "2e6d628c"
      },
      "source": [
        "## Data Pre-Processing On Rate Feature"
      ]
    },
    {
      "cell_type": "code",
      "execution_count": null,
      "id": "05348375",
      "metadata": {
        "id": "05348375"
      },
      "outputs": [],
      "source": [
        "newData['rating'] = pd.to_numeric(newData['rating'])"
      ]
    },
    {
      "cell_type": "code",
      "execution_count": null,
      "id": "1d665e74",
      "metadata": {
        "id": "1d665e74",
        "outputId": "a385fd46-f7b4-4707-9b8d-8571fa99d019"
      },
      "outputs": [
        {
          "data": {
            "text/plain": [
              "dtype('float64')"
            ]
          },
          "execution_count": 33,
          "metadata": {},
          "output_type": "execute_result"
        }
      ],
      "source": [
        "newData['rating'].dtype"
      ]
    },
    {
      "cell_type": "code",
      "execution_count": null,
      "id": "c38558e2",
      "metadata": {
        "id": "c38558e2",
        "outputId": "4b583f77-2e1b-49fa-d803-baad50811387"
      },
      "outputs": [
        {
          "data": {
            "text/plain": [
              "array([3.4, 3.9, nan, 3.7, 3.2, 3.5, 4.6, 4.1, 4.2, 4.3, 4. , 3.1, 3.6,\n",
              "       3.3, 3. , 4.4, 4.5, 0. , 3.8, 2.7, 2.8, 2.9, 2.5, 4.9, 4.7, 4.8,\n",
              "       1.8, 2.4, 2.1, 2.2, 2.6, 2.3, 2. ])"
            ]
          },
          "execution_count": 34,
          "metadata": {},
          "output_type": "execute_result"
        }
      ],
      "source": [
        "newData['rating'].unique()"
      ]
    },
    {
      "cell_type": "code",
      "execution_count": null,
      "id": "fd2762cb",
      "metadata": {
        "id": "fd2762cb",
        "outputId": "fab020f3-65e1-48b4-c225-4289426d8760"
      },
      "outputs": [
        {
          "data": {
            "text/plain": [
              "3383"
            ]
          },
          "execution_count": 35,
          "metadata": {},
          "output_type": "execute_result"
        }
      ],
      "source": [
        "newData['rating'].isnull().sum()"
      ]
    },
    {
      "cell_type": "code",
      "execution_count": null,
      "id": "b2bff954",
      "metadata": {
        "id": "b2bff954"
      },
      "outputs": [],
      "source": [
        "newData['rating'] = pd.cut(newData['rating'], bins = [1,3.25,4.1,5], labels = ['0', '1', '2'])"
      ]
    },
    {
      "cell_type": "code",
      "execution_count": null,
      "id": "67836f56",
      "metadata": {
        "id": "67836f56",
        "outputId": "180cd24a-6ae1-4ea8-dd9d-ba9f4f1efbbd"
      },
      "outputs": [
        {
          "data": {
            "text/html": [
              "<div>\n",
              "<style scoped>\n",
              "    .dataframe tbody tr th:only-of-type {\n",
              "        vertical-align: middle;\n",
              "    }\n",
              "\n",
              "    .dataframe tbody tr th {\n",
              "        vertical-align: top;\n",
              "    }\n",
              "\n",
              "    .dataframe thead th {\n",
              "        text-align: right;\n",
              "    }\n",
              "</style>\n",
              "<table border=\"1\" class=\"dataframe\">\n",
              "  <thead>\n",
              "    <tr style=\"text-align: right;\">\n",
              "      <th></th>\n",
              "      <th>name</th>\n",
              "      <th>address</th>\n",
              "      <th>listed_in(type)_x</th>\n",
              "      <th>url</th>\n",
              "      <th>online_order</th>\n",
              "      <th>book_table</th>\n",
              "      <th>rate</th>\n",
              "      <th>votes</th>\n",
              "      <th>phone</th>\n",
              "      <th>location</th>\n",
              "      <th>rest_type</th>\n",
              "      <th>dish_liked</th>\n",
              "      <th>cuisines</th>\n",
              "      <th>approx_cost(for two people)</th>\n",
              "      <th>reviews_list</th>\n",
              "      <th>menu_item</th>\n",
              "      <th>listed_in(type)_y</th>\n",
              "      <th>listed_in(city)</th>\n",
              "      <th>rating</th>\n",
              "    </tr>\n",
              "  </thead>\n",
              "  <tbody>\n",
              "    <tr>\n",
              "      <th>0</th>\n",
              "      <td>#FeelTheROLL</td>\n",
              "      <td>Opposite Mantri Commercio, Outer Ring Road, De...</td>\n",
              "      <td>[Delivery, Delivery]</td>\n",
              "      <td>https://www.zomato.com/bangalore/feeltheroll-b...</td>\n",
              "      <td>No</td>\n",
              "      <td>No</td>\n",
              "      <td>3.4/5</td>\n",
              "      <td>7</td>\n",
              "      <td>+91 9108342079\\r\\n+91 9886117901</td>\n",
              "      <td>Bellandur</td>\n",
              "      <td>Quick Bites</td>\n",
              "      <td>NaN</td>\n",
              "      <td>Fast Food</td>\n",
              "      <td>200</td>\n",
              "      <td>[('Rated 5.0', \"RATED\\n  Had an egg chicken ro...</td>\n",
              "      <td>[]</td>\n",
              "      <td>Delivery</td>\n",
              "      <td>Bellandur</td>\n",
              "      <td>1</td>\n",
              "    </tr>\n",
              "    <tr>\n",
              "      <th>1</th>\n",
              "      <td>#L-81 Cafe</td>\n",
              "      <td>Sector 6, HSR Layout, HSR</td>\n",
              "      <td>[Delivery, Dine-out, Delivery, Dine-out, Deliv...</td>\n",
              "      <td>https://www.zomato.com/bangalore/l-81-cafe-hsr...</td>\n",
              "      <td>Yes</td>\n",
              "      <td>No</td>\n",
              "      <td>3.9/5</td>\n",
              "      <td>48</td>\n",
              "      <td>+91 9986210891</td>\n",
              "      <td>HSR</td>\n",
              "      <td>Quick Bites</td>\n",
              "      <td>Burgers</td>\n",
              "      <td>Fast Food, Beverages</td>\n",
              "      <td>400</td>\n",
              "      <td>[('Rated 4.0', 'RATED\\n  This little cafe is s...</td>\n",
              "      <td>[]</td>\n",
              "      <td>Delivery</td>\n",
              "      <td>BTM</td>\n",
              "      <td>1</td>\n",
              "    </tr>\n",
              "    <tr>\n",
              "      <th>2</th>\n",
              "      <td>#L-81 Cafe</td>\n",
              "      <td>Sector 6, HSR Layout, HSR</td>\n",
              "      <td>[Delivery, Dine-out, Delivery, Dine-out, Deliv...</td>\n",
              "      <td>https://www.zomato.com/bangalore/l-81-cafe-hsr...</td>\n",
              "      <td>Yes</td>\n",
              "      <td>No</td>\n",
              "      <td>3.9/5</td>\n",
              "      <td>48</td>\n",
              "      <td>+91 9986210891</td>\n",
              "      <td>HSR</td>\n",
              "      <td>Quick Bites</td>\n",
              "      <td>Burgers</td>\n",
              "      <td>Fast Food, Beverages</td>\n",
              "      <td>400</td>\n",
              "      <td>[('Rated 4.0', 'RATED\\n  This little cafe is s...</td>\n",
              "      <td>[]</td>\n",
              "      <td>Dine-out</td>\n",
              "      <td>BTM</td>\n",
              "      <td>1</td>\n",
              "    </tr>\n",
              "    <tr>\n",
              "      <th>3</th>\n",
              "      <td>#Vibes Restro</td>\n",
              "      <td>Marasur Gate, Chandapura - Anekal Road, Near A...</td>\n",
              "      <td>[Buffet, Delivery, Dine-out]</td>\n",
              "      <td>https://www.zomato.com/bangalore/vibes-restro-...</td>\n",
              "      <td>No</td>\n",
              "      <td>No</td>\n",
              "      <td>NaN</td>\n",
              "      <td>0</td>\n",
              "      <td>+91 9538911285</td>\n",
              "      <td>Electronic City</td>\n",
              "      <td>Casual Dining</td>\n",
              "      <td>NaN</td>\n",
              "      <td>Continental, Chinese, Italian</td>\n",
              "      <td>700</td>\n",
              "      <td>[('Rated 5.0', \"RATED\\n  Great service and don...</td>\n",
              "      <td>[]</td>\n",
              "      <td>Buffet</td>\n",
              "      <td>Electronic City</td>\n",
              "      <td>NaN</td>\n",
              "    </tr>\n",
              "    <tr>\n",
              "      <th>4</th>\n",
              "      <td>#Vibes Restro</td>\n",
              "      <td>Marasur Gate, Chandapura - Anekal Road, Near A...</td>\n",
              "      <td>[Buffet, Delivery, Dine-out]</td>\n",
              "      <td>https://www.zomato.com/bangalore/vibes-restro-...</td>\n",
              "      <td>No</td>\n",
              "      <td>No</td>\n",
              "      <td>NaN</td>\n",
              "      <td>0</td>\n",
              "      <td>+91 9538911285</td>\n",
              "      <td>Electronic City</td>\n",
              "      <td>Casual Dining</td>\n",
              "      <td>NaN</td>\n",
              "      <td>Continental, Chinese, Italian</td>\n",
              "      <td>700</td>\n",
              "      <td>[('Rated 5.0', \"RATED\\n  Great service and don...</td>\n",
              "      <td>[]</td>\n",
              "      <td>Delivery</td>\n",
              "      <td>Electronic City</td>\n",
              "      <td>NaN</td>\n",
              "    </tr>\n",
              "  </tbody>\n",
              "</table>\n",
              "</div>"
            ],
            "text/plain": [
              "            name                                            address  \\\n",
              "0   #FeelTheROLL  Opposite Mantri Commercio, Outer Ring Road, De...   \n",
              "1     #L-81 Cafe                          Sector 6, HSR Layout, HSR   \n",
              "2     #L-81 Cafe                          Sector 6, HSR Layout, HSR   \n",
              "3  #Vibes Restro  Marasur Gate, Chandapura - Anekal Road, Near A...   \n",
              "4  #Vibes Restro  Marasur Gate, Chandapura - Anekal Road, Near A...   \n",
              "\n",
              "                                   listed_in(type)_x  \\\n",
              "0                               [Delivery, Delivery]   \n",
              "1  [Delivery, Dine-out, Delivery, Dine-out, Deliv...   \n",
              "2  [Delivery, Dine-out, Delivery, Dine-out, Deliv...   \n",
              "3                       [Buffet, Delivery, Dine-out]   \n",
              "4                       [Buffet, Delivery, Dine-out]   \n",
              "\n",
              "                                                 url online_order book_table  \\\n",
              "0  https://www.zomato.com/bangalore/feeltheroll-b...           No         No   \n",
              "1  https://www.zomato.com/bangalore/l-81-cafe-hsr...          Yes         No   \n",
              "2  https://www.zomato.com/bangalore/l-81-cafe-hsr...          Yes         No   \n",
              "3  https://www.zomato.com/bangalore/vibes-restro-...           No         No   \n",
              "4  https://www.zomato.com/bangalore/vibes-restro-...           No         No   \n",
              "\n",
              "    rate  votes                             phone         location  \\\n",
              "0  3.4/5      7  +91 9108342079\\r\\n+91 9886117901        Bellandur   \n",
              "1  3.9/5     48                    +91 9986210891              HSR   \n",
              "2  3.9/5     48                    +91 9986210891              HSR   \n",
              "3    NaN      0                    +91 9538911285  Electronic City   \n",
              "4    NaN      0                    +91 9538911285  Electronic City   \n",
              "\n",
              "       rest_type dish_liked                       cuisines  \\\n",
              "0    Quick Bites        NaN                      Fast Food   \n",
              "1    Quick Bites    Burgers           Fast Food, Beverages   \n",
              "2    Quick Bites    Burgers           Fast Food, Beverages   \n",
              "3  Casual Dining        NaN  Continental, Chinese, Italian   \n",
              "4  Casual Dining        NaN  Continental, Chinese, Italian   \n",
              "\n",
              "  approx_cost(for two people)  \\\n",
              "0                         200   \n",
              "1                         400   \n",
              "2                         400   \n",
              "3                         700   \n",
              "4                         700   \n",
              "\n",
              "                                        reviews_list menu_item  \\\n",
              "0  [('Rated 5.0', \"RATED\\n  Had an egg chicken ro...        []   \n",
              "1  [('Rated 4.0', 'RATED\\n  This little cafe is s...        []   \n",
              "2  [('Rated 4.0', 'RATED\\n  This little cafe is s...        []   \n",
              "3  [('Rated 5.0', \"RATED\\n  Great service and don...        []   \n",
              "4  [('Rated 5.0', \"RATED\\n  Great service and don...        []   \n",
              "\n",
              "  listed_in(type)_y  listed_in(city) rating  \n",
              "0          Delivery        Bellandur      1  \n",
              "1          Delivery              BTM      1  \n",
              "2          Dine-out              BTM      1  \n",
              "3            Buffet  Electronic City    NaN  \n",
              "4          Delivery  Electronic City    NaN  "
            ]
          },
          "execution_count": 37,
          "metadata": {},
          "output_type": "execute_result"
        }
      ],
      "source": [
        "newData.head()"
      ]
    },
    {
      "cell_type": "code",
      "execution_count": null,
      "id": "233e5e47",
      "metadata": {
        "id": "233e5e47",
        "outputId": "b3ea8487-20e0-42a3-a9a0-4e4139192e28"
      },
      "outputs": [
        {
          "data": {
            "text/plain": [
              "<AxesSubplot:xlabel='rating', ylabel='Count'>"
            ]
          },
          "execution_count": 38,
          "metadata": {},
          "output_type": "execute_result"
        },
        {
          "data": {
            "image/png": "[encoded data removed]",
            "text/plain": [
              "<Figure size 640x480 with 1 Axes>"
            ]
          },
          "metadata": {},
          "output_type": "display_data"
        }
      ],
      "source": [
        "sns.histplot(newData['rating'])"
      ]
    },
    {
      "cell_type": "code",
      "execution_count": null,
      "id": "2f431639",
      "metadata": {
        "id": "2f431639",
        "outputId": "7bd14676-f445-4cdb-feec-94dfa46fbacf"
      },
      "outputs": [
        {
          "data": {
            "text/plain": [
              "'[(\\'Rated 5.0\\', \"RATED\\\\n  Had an egg chicken roll and a paneer roll... Really yummy... A must visit place... It would be good if you guys can keep the shop open on Sunday\\'s as well.. Good luck... :-)\"), (\\'Rated 5.0\\', \\'RATED\\\\n  Not just the Roll but the filling tastes great. I would highly recommend to others to try their rolls. Owners hospitality is also good and very friendly.\\'), (\\'Rated 4.5\\', \\'RATED\\\\n  Very nice place complete value for money ? Highly recommend.Must visit for any foodie . I would recommend the egg chicken roll . #feeltheroll\\'), (\\'Rated 5.0\\', \\'RATED\\\\n  Had an amazing mouth-watering ?chicken roll?Worth every bite..A must try for every foodie?A variety of rolls and sandwiches are available as well .. A budding rafflesia ?\\')]'"
            ]
          },
          "execution_count": 39,
          "metadata": {},
          "output_type": "execute_result"
        }
      ],
      "source": [
        "newData['reviews_list'][0]"
      ]
    },
    {
      "cell_type": "code",
      "execution_count": null,
      "id": "12e8c8f7",
      "metadata": {
        "id": "12e8c8f7",
        "outputId": "a1860065-9f06-4f6a-edb0-df42279c8ac6"
      },
      "outputs": [
        {
          "data": {
            "text/plain": [
              "'[(\\'rated 5.0\\', \"rated\\\\n  had an egg chicken roll and a paneer roll... really yummy... a must visit place... it would be good if you guys can keep the shop open on sunday\\'s as well.. good luck... :-)\"), (\\'rated 5.0\\', \\'rated\\\\n  not just the roll but the filling tastes great. i would highly recommend to others to try their rolls. owners hospitality is also good and very friendly.\\'), (\\'rated 4.5\\', \\'rated\\\\n  very nice place complete value for money ? highly recommend.must visit for any foodie . i would recommend the egg chicken roll . #feeltheroll\\'), (\\'rated 5.0\\', \\'rated\\\\n  had an amazing mouth-watering ?chicken roll?worth every bite..a must try for every foodie?a variety of rolls and sandwiches are available as well .. a budding rafflesia ?\\')]'"
            ]
          },
          "execution_count": 40,
          "metadata": {},
          "output_type": "execute_result"
        }
      ],
      "source": [
        "rev = newData['reviews_list'][0].lower()\n",
        "rev"
      ]
    },
    {
      "cell_type": "code",
      "execution_count": null,
      "id": "a008b67b",
      "metadata": {
        "id": "a008b67b",
        "outputId": "3ea03eb8-3e10-4fc3-b5ca-6169ed3eb4dc"
      },
      "outputs": [
        {
          "data": {
            "text/plain": [
              "'   rated        rated n  had an egg chicken roll and a paneer roll    really yummy    a must visit place    it would be good if you guys can keep the shop open on sunday s as well   good luck             rated        rated n  not just the roll but the filling tastes great  i would highly recommend to others to try their rolls  owners hospitality is also good and very friendly       rated        rated n  very nice place complete value for money   highly recommend must visit for any foodie   i would recommend the egg chicken roll    feeltheroll      rated        rated n  had an amazing mouth watering  chicken roll worth every bite  a must try for every foodie a variety of rolls and sandwiches are available as well    a budding rafflesia     '"
            ]
          },
          "execution_count": 41,
          "metadata": {},
          "output_type": "execute_result"
        }
      ],
      "source": [
        "rev2 = re.sub('[^a-zA-Z]', ' ',rev)\n",
        "rev2"
      ]
    },
    {
      "cell_type": "code",
      "execution_count": null,
      "id": "36a66953",
      "metadata": {
        "id": "36a66953",
        "outputId": "fe1d6003-fc10-41ce-a3e9-1a18117573f1"
      },
      "outputs": [
        {
          "data": {
            "text/plain": [
              "'              n  had an egg chicken roll and a paneer roll    really yummy    a must visit place    it would be good if you guys can keep the shop open on sunday s as well   good luck                        n  not just the roll but the filling tastes great  i would highly recommend to others to try their rolls  owners hospitality is also good and very friendly                  n  very nice place complete value for money   highly recommend must visit for any foodie   i would recommend the egg chicken roll    feeltheroll                 n  had an amazing mouth watering  chicken roll worth every bite  a must try for every foodie a variety of rolls and sandwiches are available as well    a budding rafflesia     '"
            ]
          },
          "execution_count": 42,
          "metadata": {},
          "output_type": "execute_result"
        }
      ],
      "source": [
        "rev3 = re.sub('rated', ' ', rev2)\n",
        "rev3"
      ]
    },
    {
      "cell_type": "code",
      "execution_count": null,
      "id": "f62f2624",
      "metadata": {
        "id": "f62f2624",
        "outputId": "1db3b04e-031f-40f2-8dfb-b23a42f89298"
      },
      "outputs": [
        {
          "data": {
            "text/plain": [
              "' n had an egg chicken roll and a paneer roll really yummy a must visit place it would be good if you guys can keep the shop open on sunday s as well good luck n not just the roll but the filling tastes great i would highly recommend to others to try their rolls owners hospitality is also good and very friendly n very nice place complete value for money highly recommend must visit for any foodie i would recommend the egg chicken roll feeltheroll n had an amazing mouth watering chicken roll worth every bite a must try for every foodie a variety of rolls and sandwiches are available as well a budding rafflesia '"
            ]
          },
          "execution_count": 43,
          "metadata": {},
          "output_type": "execute_result"
        }
      ],
      "source": [
        "rev4 = re.sub(' +',' ',rev3)\n",
        "rev4"
      ]
    },
    {
      "cell_type": "code",
      "execution_count": null,
      "id": "9a48c9d2",
      "metadata": {
        "id": "9a48c9d2",
        "outputId": "10d01139-89a6-411f-ec81-d0ce0d3b6373"
      },
      "outputs": [
        {
          "data": {
            "text/plain": [
              "(20915, 19)"
            ]
          },
          "execution_count": 44,
          "metadata": {},
          "output_type": "execute_result"
        }
      ],
      "source": [
        "newData.shape"
      ]
    },
    {
      "cell_type": "code",
      "execution_count": null,
      "id": "bd47c45d",
      "metadata": {
        "id": "bd47c45d"
      },
      "outputs": [],
      "source": [
        "sample = newData.sample(n=2000)"
      ]
    },
    {
      "cell_type": "code",
      "execution_count": null,
      "id": "baabe508",
      "metadata": {
        "id": "baabe508"
      },
      "outputs": [],
      "source": [
        "totalReview= ''\n",
        "\n",
        "for review in newData['reviews_list']:\n",
        "    review = review.lower()\n",
        "    review = re.sub('[^a-zA-Z]', ' ',review)\n",
        "    review = re.sub('rated', ' ',review)\n",
        "    review=re.sub('x',' ',review)\n",
        "    review = re.sub(' +', ' ',review)\n",
        "    totalReview = totalReview + str(review)"
      ]
    },
    {
      "cell_type": "code",
      "execution_count": null,
      "id": "3ca3a18a",
      "metadata": {
        "id": "3ca3a18a"
      },
      "outputs": [],
      "source": [
        "stopwords = set(STOPWORDS)"
      ]
    },
    {
      "cell_type": "code",
      "execution_count": null,
      "id": "2788671d",
      "metadata": {
        "id": "2788671d"
      },
      "outputs": [],
      "source": [
        "wordcloud = WordCloud(stopwords = stopwords).generate(totalReview)"
      ]
    },
    {
      "cell_type": "code",
      "execution_count": null,
      "id": "49196775",
      "metadata": {
        "id": "49196775",
        "outputId": "9edbf0da-496d-4836-c5be-e686ae16c537"
      },
      "outputs": [
        {
          "data": {
            "text/plain": [
              "(-0.5, 399.5, 199.5, -0.5)"
            ]
          },
          "execution_count": 49,
          "metadata": {},
          "output_type": "execute_result"
        },
        {
          "data": {
            "image/png": "[encoded data removed]",
            "text/plain": [
              "<Figure size 1000x800 with 1 Axes>"
            ]
          },
          "metadata": {},
          "output_type": "display_data"
        }
      ],
      "source": [
        "plt.figure(figsize = (10,8))\n",
        "plt.imshow(wordcloud)\n",
        "plt.axis('off')"
      ]
    },
    {
      "cell_type": "code",
      "execution_count": null,
      "id": "b85447cf",
      "metadata": {
        "id": "b85447cf"
      },
      "outputs": [],
      "source": [
        "def lowerData(text):\n",
        "    return text.lower()"
      ]
    },
    {
      "cell_type": "code",
      "execution_count": null,
      "id": "5648063d",
      "metadata": {
        "id": "5648063d"
      },
      "outputs": [],
      "source": [
        "newData['reviews_list'] = newData['reviews_list'].apply(lowerData)"
      ]
    },
    {
      "cell_type": "code",
      "execution_count": null,
      "id": "27632213",
      "metadata": {
        "id": "27632213"
      },
      "outputs": [],
      "source": [
        "newData['reviews_list'] = newData['reviews_list'].apply(lambda x:x.lower())"
      ]
    },
    {
      "cell_type": "code",
      "execution_count": null,
      "id": "49addf8d",
      "metadata": {
        "id": "49addf8d"
      },
      "outputs": [],
      "source": [
        "tokenizer = regextoken('[a-zA_Z]+')"
      ]
    },
    {
      "cell_type": "code",
      "execution_count": null,
      "id": "72efb7c0",
      "metadata": {
        "id": "72efb7c0",
        "outputId": "8554a026-17a1-401c-e2b5-e201adbc6393"
      },
      "outputs": [
        {
          "data": {
            "text/plain": [
              "'[(\\'rated 5.0\\', \"rated\\\\n  had an egg chicken roll and a paneer roll... really yummy... a must visit place... it would be good if you guys can keep the shop open on sunday\\'s as well.. good luck... :-)\"), (\\'rated 5.0\\', \\'rated\\\\n  not just the roll but the filling tastes great. i would highly recommend to others to try their rolls. owners hospitality is also good and very friendly.\\'), (\\'rated 4.5\\', \\'rated\\\\n  very nice place complete value for money ? highly recommend.must visit for any foodie . i would recommend the egg chicken roll . #feeltheroll\\'), (\\'rated 5.0\\', \\'rated\\\\n  had an amazing mouth-watering ?chicken roll?worth every bite..a must try for every foodie?a variety of rolls and sandwiches are available as well .. a budding rafflesia ?\\')]'"
            ]
          },
          "execution_count": 54,
          "metadata": {},
          "output_type": "execute_result"
        }
      ],
      "source": [
        "data = newData['reviews_list'][0]\n",
        "data"
      ]
    },
    {
      "cell_type": "code",
      "execution_count": null,
      "id": "3a7da5a8",
      "metadata": {
        "id": "3a7da5a8",
        "outputId": "03fc3ddc-6f20-41c9-bed1-ae1d676dcda6"
      },
      "outputs": [
        {
          "name": "stdout",
          "output_type": "stream",
          "text": [
            "['rated', 'rated', 'n', 'had', 'an', 'egg', 'chicken', 'roll', 'and', 'a', 'paneer', 'roll', 'really', 'yummy', 'a', 'must', 'visit', 'place', 'it', 'would', 'be', 'good', 'if', 'you', 'guys', 'can', 'keep', 'the', 'shop', 'open', 'on', 'sunday', 's', 'as', 'well', 'good', 'luck', 'rated', 'rated', 'n', 'not', 'just', 'the', 'roll', 'but', 'the', 'filling', 'tastes', 'great', 'i', 'would', 'highly', 'recommend', 'to', 'others', 'to', 'try', 'their', 'rolls', 'owners', 'hospitality', 'is', 'also', 'good', 'and', 'very', 'friendly', 'rated', 'rated', 'n', 'very', 'nice', 'place', 'complete', 'value', 'for', 'money', 'highly', 'recommend', 'must', 'visit', 'for', 'any', 'foodie', 'i', 'would', 'recommend', 'the', 'egg', 'chicken', 'roll', 'feeltheroll', 'rated', 'rated', 'n', 'had', 'an', 'amazing', 'mouth', 'watering', 'chicken', 'roll', 'worth', 'every', 'bite', 'a', 'must', 'try', 'for', 'every', 'foodie', 'a', 'variety', 'of', 'rolls', 'and', 'sandwiches', 'are', 'available', 'as', 'well', 'a', 'budding', 'rafflesia']\n"
          ]
        }
      ],
      "source": [
        "print(tokenizer.tokenize(data))"
      ]
    },
    {
      "cell_type": "code",
      "execution_count": null,
      "id": "7b5fc76a",
      "metadata": {
        "id": "7b5fc76a"
      },
      "outputs": [],
      "source": [
        "reviewToken = newData['reviews_list'].apply(tokenizer.tokenize)"
      ]
    },
    {
      "cell_type": "code",
      "execution_count": null,
      "id": "ededbeed",
      "metadata": {
        "id": "ededbeed",
        "outputId": "cd0eddf6-14b5-4521-a92b-f2faad7cab00"
      },
      "outputs": [
        {
          "name": "stdout",
          "output_type": "stream",
          "text": [
            "['rated', 'rated', 'n', 'this', 'little', 'cafe', 'is', 'set', 'in', 'a', 'very', 'beautiful', 'location', 'and', 'the', 'ambiance', 'was', 'too', 'good', 'nthe', 'burger', 'was', 'filled', 'with', 'taste', 'and', 'chicken', 'nthe', 'banana', 'chocolate', 'sandwich', 'was', 'a', 'variety', 'that', 'you', 'would', 'never', 'find', 'in', 'most', 'of', 'the', 'restaurants', 'in', 'bangalore', 'the', 'drinks', 'were', 'wonderful', 'and', 'had', 'lot', 'of', 'flavours', 'to', 'choose', 'from', 'nit', 'took', 'a', 'little', 'more', 'time', 'than', 'expected', 'for', 'the', 'food', 'to', 'be', 'served', 'in', 'the', 'table', 'nall', 'the', 'dishes', 'there', 'seemed', 'to', 'be', 'priced', 'moderately', 'and', 'well', 'nfood', 'nambiance', 'nservice', 'ntheir', 'chefs', 'are', 'doing', 'a', 'brilliant', 'job', 'creating', 'new', 'dishes', 'with', 'a', 'variety', 'na', 'wonderful', 'place', 'to', 'be', 'out', 'with', 'your', 'friends', 'rated', 'rated', 'n', 'a', 'cozy', 'cafe', 'near', 'silk', 'board', 'just', 'came', 'here', 'before', 'boarding', 'the', 'bus', 'this', 'is', 'totally', 'open', 'air', 'especially', 'comfortable', 'at', 'night', 'staff', 'are', 'friendly', 'they', 'didn', 't', 'serve', 'food', 'that', 'fast', 'but', 'they', 'are', 'quite', 'cheap', 'and', 'good', 'for', 'a', 'bite', 'ncons', 'don', 't', 'come', 'if', 'weather', 'is', 'not', 'good', 'the', 'toilets', 'don', 't', 'have', 'lights', 'ni', 'recommend', 'the', 'beetroot', 'juice', 'rated', 'rated', 'n', 'such', 'a', 'nice', 'place', 'to', 'hang', 'out', 'its', 'an', 'open', 'space', 'you', 'must', 'visit', 'this', 'place', 'in', 'the', 'night', 'it', 'looks', 'awesome', 'all', 'food', 'items', 'are', 'very', 'tasty', 'i', 'had', 'been', 'with', 'my', 'friend', 'and', 'ordered', 'onion', 'pakoda', 'masala', 'soda', 'rose', 'falooda', 'corn', 'sandwich', 'and', 'chocolate', 'sandwich', 'all', 'items', 'were', 'so', 'tasty', 'and', 'i', 'love', 'to', 'visit', 'this', 'place', 'again', 'and', 'again', 'rated', 'rated', 'n', 'love', 'the', 'ambiance', 'perfect', 'way', 'to', 'spend', 'your', 'sunday', 'the', 'food', 'is', 'really', 'good', 'and', 'value', 'for', 'money', 'even', 'the', 'shakes', 'are', 'delicious', 'a', 'must', 'visit', 'for', 'nature', 'lovers', 'rated', 'rated', 'n', 'such', 'an', 'amazing', 'and', 'beautiful', 'place', 'in', 'the', 'calm', 'area', 'of', 'hsr', 'we', 'usually', 'comes', 'here', 'for', 'office', 'breaks', 'hard', 'to', 'realise', 'that', 'l', 'doesn', 't', 'serves', 'food', 'but', 'just', 'snacks', 'and', 'shakes', 'shakes', 'were', 'really', 'well', 'tried', 'lassi', 'and', 'dark', 'chocolate', 'ice', 'cream', 'other', 'day', 'lassi', 'was', 'nice', 'icecream', 'was', 'usual', 'but', 'what', 'won', 'our', 'hearts', 'was', 'the', 'place', 'fresh', 'air', 'and', 'the', 'decent', 'builtup', 'style']\n"
          ]
        }
      ],
      "source": [
        "print(reviewToken[1])"
      ]
    },
    {
      "cell_type": "code",
      "execution_count": null,
      "id": "d224b4df",
      "metadata": {
        "id": "d224b4df",
        "outputId": "ebeae0ba-365b-448d-ca55-c49590a75840"
      },
      "outputs": [
        {
          "name": "stdout",
          "output_type": "stream",
          "text": [
            "['rated', 'rated', 'n', 'this', 'little', 'cafe', 'is', 'set', 'in', 'a', 'very', 'beautiful', 'location', 'and', 'the', 'ambiance', 'was', 'too', 'good', 'nthe', 'burger', 'was', 'filled', 'with', 'taste', 'and', 'chicken', 'nthe', 'banana', 'chocolate', 'sandwich', 'was', 'a', 'variety', 'that', 'you', 'would', 'never', 'find', 'in', 'most', 'of', 'the', 'restaurants', 'in', 'bangalore', 'the', 'drinks', 'were', 'wonderful', 'and', 'had', 'lot', 'of', 'flavours', 'to', 'choose', 'from', 'nit', 'took', 'a', 'little', 'more', 'time', 'than', 'expected', 'for', 'the', 'food', 'to', 'be', 'served', 'in', 'the', 'table', 'nall', 'the', 'dishes', 'there', 'seemed', 'to', 'be', 'priced', 'moderately', 'and', 'well', 'nfood', 'nambiance', 'nservice', 'ntheir', 'chefs', 'are', 'doing', 'a', 'brilliant', 'job', 'creating', 'new', 'dishes', 'with', 'a', 'variety', 'na', 'wonderful', 'place', 'to', 'be', 'out', 'with', 'your', 'friends', 'rated', 'rated', 'n', 'a', 'cozy', 'cafe', 'near', 'silk', 'board', 'just', 'came', 'here', 'before', 'boarding', 'the', 'bus', 'this', 'is', 'totally', 'open', 'air', 'especially', 'comfortable', 'at', 'night', 'staff', 'are', 'friendly', 'they', 'didn', 't', 'serve', 'food', 'that', 'fast', 'but', 'they', 'are', 'quite', 'cheap', 'and', 'good', 'for', 'a', 'bite', 'ncons', 'don', 't', 'come', 'if', 'weather', 'is', 'not', 'good', 'the', 'toilets', 'don', 't', 'have', 'lights', 'ni', 'recommend', 'the', 'beetroot', 'juice', 'rated', 'rated', 'n', 'such', 'a', 'nice', 'place', 'to', 'hang', 'out', 'its', 'an', 'open', 'space', 'you', 'must', 'visit', 'this', 'place', 'in', 'the', 'night', 'it', 'looks', 'awesome', 'all', 'food', 'items', 'are', 'very', 'tasty', 'i', 'had', 'been', 'with', 'my', 'friend', 'and', 'ordered', 'onion', 'pakoda', 'masala', 'soda', 'rose', 'falooda', 'corn', 'sandwich', 'and', 'chocolate', 'sandwich', 'all', 'items', 'were', 'so', 'tasty', 'and', 'i', 'love', 'to', 'visit', 'this', 'place', 'again', 'and', 'again', 'rated', 'rated', 'n', 'love', 'the', 'ambiance', 'perfect', 'way', 'to', 'spend', 'your', 'sunday', 'the', 'food', 'is', 'really', 'good', 'and', 'value', 'for', 'money', 'even', 'the', 'shakes', 'are', 'delicious', 'a', 'must', 'visit', 'for', 'nature', 'lovers', 'rated', 'rated', 'n', 'such', 'an', 'amazing', 'and', 'beautiful', 'place', 'in', 'the', 'calm', 'area', 'of', 'hsr', 'we', 'usually', 'comes', 'here', 'for', 'office', 'breaks', 'hard', 'to', 'realise', 'that', 'l', 'doesn', 't', 'serves', 'food', 'but', 'just', 'snacks', 'and', 'shakes', 'shakes', 'were', 'really', 'well', 'tried', 'lassi', 'and', 'dark', 'chocolate', 'ice', 'cream', 'other', 'day', 'lassi', 'was', 'nice', 'icecream', 'was', 'usual', 'but', 'what', 'won', 'our', 'hearts', 'was', 'the', 'place', 'fresh', 'air', 'and', 'the', 'decent', 'builtup', 'style']\n"
          ]
        }
      ],
      "source": [
        "print(reviewToken[1])"
      ]
    },
    {
      "cell_type": "code",
      "execution_count": null,
      "id": "ef943d61",
      "metadata": {
        "id": "ef943d61"
      },
      "outputs": [],
      "source": [
        "stop = stopwords.words('english')"
      ]
    },
    {
      "cell_type": "code",
      "execution_count": null,
      "id": "58c7ff94",
      "metadata": {
        "id": "58c7ff94"
      },
      "outputs": [],
      "source": [
        "stop.extend(['rated','n','nan, x'])"
      ]
    },
    {
      "cell_type": "code",
      "execution_count": null,
      "id": "0498dcbb",
      "metadata": {
        "id": "0498dcbb",
        "outputId": "4869b27b-b734-4e70-be88-b929faacba86"
      },
      "outputs": [
        {
          "name": "stdout",
          "output_type": "stream",
          "text": [
            "['rated', 'rated', 'n', 'had', 'an', 'egg', 'chicken', 'roll', 'and', 'a', 'paneer', 'roll', 'really', 'yummy', 'a', 'must', 'visit', 'place', 'it', 'would', 'be', 'good', 'if', 'you', 'guys', 'can', 'keep', 'the', 'shop', 'open', 'on', 'sunday', 's', 'as', 'well', 'good', 'luck', 'rated', 'rated', 'n', 'not', 'just', 'the', 'roll', 'but', 'the', 'filling', 'tastes', 'great', 'i', 'would', 'highly', 'recommend', 'to', 'others', 'to', 'try', 'their', 'rolls', 'owners', 'hospitality', 'is', 'also', 'good', 'and', 'very', 'friendly', 'rated', 'rated', 'n', 'very', 'nice', 'place', 'complete', 'value', 'for', 'money', 'highly', 'recommend', 'must', 'visit', 'for', 'any', 'foodie', 'i', 'would', 'recommend', 'the', 'egg', 'chicken', 'roll', 'feeltheroll', 'rated', 'rated', 'n', 'had', 'an', 'amazing', 'mouth', 'watering', 'chicken', 'roll', 'worth', 'every', 'bite', 'a', 'must', 'try', 'for', 'every', 'foodie', 'a', 'variety', 'of', 'rolls', 'and', 'sandwiches', 'are', 'available', 'as', 'well', 'a', 'budding', 'rafflesia']\n"
          ]
        }
      ],
      "source": [
        "print(reviewToken[0])"
      ]
    },
    {
      "cell_type": "code",
      "execution_count": null,
      "id": "0669603a",
      "metadata": {
        "scrolled": true,
        "id": "0669603a",
        "outputId": "dc7f7e84-a622-4f35-ffa0-72743f8e4a74"
      },
      "outputs": [
        {
          "name": "stdout",
          "output_type": "stream",
          "text": [
            "['egg', 'chicken', 'roll', 'paneer', 'roll', 'really', 'yummy', 'must', 'visit', 'place', 'would', 'good', 'guys', 'keep', 'shop', 'open', 'sunday', 'well', 'good', 'luck', 'roll', 'filling', 'tastes', 'great', 'would', 'highly', 'recommend', 'others', 'try', 'rolls', 'owners', 'hospitality', 'also', 'good', 'friendly', 'nice', 'place', 'complete', 'value', 'money', 'highly', 'recommend', 'must', 'visit', 'foodie', 'would', 'recommend', 'egg', 'chicken', 'roll', 'feeltheroll', 'amazing', 'mouth', 'watering', 'chicken', 'roll', 'worth', 'every', 'bite', 'must', 'try', 'every', 'foodie', 'variety', 'rolls', 'sandwiches', 'available', 'well', 'budding', 'rafflesia']\n"
          ]
        }
      ],
      "source": [
        "review = []\n",
        "\n",
        "for token in reviewToken[0]:\n",
        "    if token not in stop:\n",
        "        review.append(token)\n",
        "print(review)"
      ]
    },
    {
      "cell_type": "code",
      "execution_count": null,
      "id": "138265ad",
      "metadata": {
        "id": "138265ad",
        "outputId": "a5236498-5784-49f0-a43a-d93b347446ed"
      },
      "outputs": [
        {
          "name": "stdout",
          "output_type": "stream",
          "text": [
            "['egg', 'chicken', 'roll', 'paneer', 'roll', 'really', 'yummy', 'must', 'visit', 'place', 'would', 'good', 'guys', 'keep', 'shop', 'open', 'sunday', 'well', 'good', 'luck', 'roll', 'filling', 'tastes', 'great', 'would', 'highly', 'recommend', 'others', 'try', 'rolls', 'owners', 'hospitality', 'also', 'good', 'friendly', 'nice', 'place', 'complete', 'value', 'money', 'highly', 'recommend', 'must', 'visit', 'foodie', 'would', 'recommend', 'egg', 'chicken', 'roll', 'feeltheroll', 'amazing', 'mouth', 'watering', 'chicken', 'roll', 'worth', 'every', 'bite', 'must', 'try', 'every', 'foodie', 'variety', 'rolls', 'sandwiches', 'available', 'well', 'budding', 'rafflesia']\n"
          ]
        }
      ],
      "source": [
        "print([token for token in reviewToken[0] if token not in stop])"
      ]
    },
    {
      "cell_type": "code",
      "execution_count": null,
      "id": "193c7b86",
      "metadata": {
        "id": "193c7b86"
      },
      "outputs": [],
      "source": [
        "def removeStopwords(text):\n",
        "    updatedText = [token for token in text if token not in stop]\n",
        "    return updatedText"
      ]
    },
    {
      "cell_type": "code",
      "execution_count": null,
      "id": "7dc674d1",
      "metadata": {
        "id": "7dc674d1"
      },
      "outputs": [],
      "source": [
        "reviewTokens = reviewToken.apply(removeStopwords)"
      ]
    },
    {
      "cell_type": "code",
      "execution_count": null,
      "id": "eb8ca9e5",
      "metadata": {
        "id": "eb8ca9e5",
        "outputId": "25779811-69a6-458e-f194-bbc70580eb04"
      },
      "outputs": [
        {
          "data": {
            "text/plain": [
              "pandas.core.series.Series"
            ]
          },
          "execution_count": 71,
          "metadata": {},
          "output_type": "execute_result"
        }
      ],
      "source": [
        "type(reviewTokens)"
      ]
    },
    {
      "cell_type": "code",
      "execution_count": null,
      "id": "e24790ba",
      "metadata": {
        "id": "e24790ba",
        "outputId": "f2632267-8a71-4526-d12e-15deff571868"
      },
      "outputs": [
        {
          "data": {
            "text/plain": [
              "20915"
            ]
          },
          "execution_count": 72,
          "metadata": {},
          "output_type": "execute_result"
        }
      ],
      "source": [
        "len(reviewTokens)"
      ]
    },
    {
      "cell_type": "code",
      "execution_count": null,
      "id": "7b543cf8",
      "metadata": {
        "id": "7b543cf8",
        "outputId": "487b8fba-59f1-4dba-e260-f2c510e9f424"
      },
      "outputs": [
        {
          "data": {
            "text/plain": [
              "(20915, 19)"
            ]
          },
          "execution_count": 73,
          "metadata": {},
          "output_type": "execute_result"
        }
      ],
      "source": [
        "newData.shape"
      ]
    },
    {
      "cell_type": "code",
      "execution_count": null,
      "id": "5b5e30da",
      "metadata": {
        "id": "5b5e30da"
      },
      "outputs": [],
      "source": [
        "allReviews = reviewTokens.astype(str).str.cat()"
      ]
    },
    {
      "cell_type": "code",
      "execution_count": null,
      "id": "025705b3",
      "metadata": {
        "id": "025705b3"
      },
      "outputs": [],
      "source": [
        "type(allReviews)"
      ]
    },
    {
      "cell_type": "code",
      "execution_count": null,
      "id": "76f1347f",
      "metadata": {
        "id": "76f1347f"
      },
      "outputs": [],
      "source": [
        "allReviews[0:500]"
      ]
    },
    {
      "cell_type": "code",
      "execution_count": null,
      "id": "d0dc7431",
      "metadata": {
        "id": "d0dc7431"
      },
      "outputs": [],
      "source": [
        "cleanedReviews = tokenizer.tokenize(allReviews)"
      ]
    },
    {
      "cell_type": "code",
      "execution_count": null,
      "id": "b540443c",
      "metadata": {
        "id": "b540443c"
      },
      "outputs": [],
      "source": [
        "type(cleanedReviews)"
      ]
    },
    {
      "cell_type": "code",
      "execution_count": null,
      "id": "fe327c91",
      "metadata": {
        "id": "fe327c91"
      },
      "outputs": [],
      "source": [
        "print(cleanedReviews[0:200])"
      ]
    },
    {
      "cell_type": "code",
      "execution_count": null,
      "id": "92f80b27",
      "metadata": {
        "id": "92f80b27"
      },
      "outputs": [],
      "source": [
        "fd = FreqDist()"
      ]
    },
    {
      "cell_type": "code",
      "execution_count": null,
      "id": "380e0ca2",
      "metadata": {
        "id": "380e0ca2"
      },
      "outputs": [],
      "source": [
        "for word in cleanedReviews:\n",
        "    fd[word] += 1\n",
        ""
      ]
    },
    {
      "cell_type": "code",
      "execution_count": null,
      "id": "e706a34b",
      "metadata": {
        "id": "e706a34b"
      },
      "outputs": [],
      "source": [
        "fd.most_common(5)"
      ]
    },
    {
      "cell_type": "code",
      "execution_count": null,
      "id": "1acd38b1",
      "metadata": {
        "scrolled": true,
        "id": "1acd38b1"
      },
      "outputs": [],
      "source": [
        "plt.figure(figsize=(15,8))\n",
        "fd.plot(50)"
      ]
    },
    {
      "cell_type": "markdown",
      "id": "6977f892",
      "metadata": {
        "id": "6977f892"
      },
      "source": [
        "## Bigrams"
      ]
    },
    {
      "cell_type": "code",
      "execution_count": null,
      "id": "94f3db5a",
      "metadata": {
        "id": "94f3db5a"
      },
      "outputs": [],
      "source": [
        "bigrams = bigrams(cleanedReviews)"
      ]
    },
    {
      "cell_type": "code",
      "execution_count": null,
      "id": "64c50cef",
      "metadata": {
        "id": "64c50cef"
      },
      "outputs": [],
      "source": [
        "bigrams"
      ]
    },
    {
      "cell_type": "code",
      "execution_count": null,
      "id": "c5d97d97",
      "metadata": {
        "id": "c5d97d97"
      },
      "outputs": [],
      "source": [
        "fdBigrams = FreqDist()"
      ]
    },
    {
      "cell_type": "code",
      "execution_count": null,
      "id": "1b6cfb03",
      "metadata": {
        "id": "1b6cfb03"
      },
      "outputs": [],
      "source": [
        "for bigram in bigrams:\n",
        "    fdBigrams[bigram] = fdBigrams[bigram] + 1\n",
        ""
      ]
    },
    {
      "cell_type": "code",
      "execution_count": null,
      "id": "00123291",
      "metadata": {
        "id": "00123291"
      },
      "outputs": [],
      "source": [
        "fdBigrams.most_common(50)"
      ]
    },
    {
      "cell_type": "code",
      "execution_count": null,
      "id": "d5be0f60",
      "metadata": {
        "id": "d5be0f60"
      },
      "outputs": [],
      "source": [
        "plt.figure(figsize = (15,10))\n",
        "fdBigrams.plot(50)"
      ]
    },
    {
      "cell_type": "markdown",
      "id": "dfc890dc",
      "metadata": {
        "id": "dfc890dc"
      },
      "source": [
        "## Trigrams"
      ]
    },
    {
      "cell_type": "code",
      "execution_count": null,
      "id": "2c9e1cca",
      "metadata": {
        "id": "2c9e1cca"
      },
      "outputs": [],
      "source": [
        "trigrams = trigrams(cleanedReviews)"
      ]
    },
    {
      "cell_type": "code",
      "execution_count": null,
      "id": "36de87e9",
      "metadata": {
        "id": "36de87e9"
      },
      "outputs": [],
      "source": [
        "fdTrigrams = FreqDist()"
      ]
    },
    {
      "cell_type": "code",
      "execution_count": null,
      "id": "f1112283",
      "metadata": {
        "id": "f1112283"
      },
      "outputs": [],
      "source": [
        "for trigram in trigrams:\n",
        "    fdTrigrams[trigram] = fdTrigrams[trigram] + 1"
      ]
    },
    {
      "cell_type": "code",
      "execution_count": null,
      "id": "5f578173",
      "metadata": {
        "id": "5f578173"
      },
      "outputs": [],
      "source": [
        "fdTrigrams.most_common(5)"
      ]
    },
    {
      "cell_type": "code",
      "execution_count": null,
      "id": "35c2aac1",
      "metadata": {
        "id": "35c2aac1"
      },
      "outputs": [],
      "source": [
        "plt.figure(figsize=(15,8))\n",
        "fdTrigrams.plot(50)"
      ]
    },
    {
      "cell_type": "code",
      "execution_count": null,
      "id": "71e7b317",
      "metadata": {
        "id": "71e7b317"
      },
      "outputs": [],
      "source": [
        "newData.columns"
      ]
    },
    {
      "cell_type": "code",
      "execution_count": null,
      "id": "48da4dee",
      "metadata": {
        "id": "48da4dee"
      },
      "outputs": [],
      "source": [
        "cuisines = newData[['cuisines','rating']]"
      ]
    },
    {
      "cell_type": "code",
      "execution_count": null,
      "id": "a9e45915",
      "metadata": {
        "id": "a9e45915"
      },
      "outputs": [],
      "source": [
        "cuisines.head()"
      ]
    },
    {
      "cell_type": "code",
      "execution_count": null,
      "id": "75e74ad3",
      "metadata": {
        "id": "75e74ad3"
      },
      "outputs": [],
      "source": [
        "cuisines.isnull().sum()"
      ]
    },
    {
      "cell_type": "code",
      "execution_count": null,
      "id": "0fbc908d",
      "metadata": {
        "id": "0fbc908d"
      },
      "outputs": [],
      "source": [
        "cuisines.dropna(inplace=True)"
      ]
    },
    {
      "cell_type": "code",
      "execution_count": null,
      "id": "ac8e0973",
      "metadata": {
        "id": "ac8e0973"
      },
      "outputs": [],
      "source": [
        "cuisines.isnull().sum()"
      ]
    },
    {
      "cell_type": "code",
      "execution_count": null,
      "id": "5943b71d",
      "metadata": {
        "id": "5943b71d"
      },
      "outputs": [],
      "source": [
        "cuisines['cuisines'] = cuisines['cuisines'].apply(lambda x:x.lower())"
      ]
    },
    {
      "cell_type": "code",
      "execution_count": null,
      "id": "428868ad",
      "metadata": {
        "id": "428868ad"
      },
      "outputs": [],
      "source": [
        "cuisinesTokens = cuisines['cuisines'].apply(tokenizer.tokenize)"
      ]
    },
    {
      "cell_type": "code",
      "execution_count": null,
      "id": "3ecf14e2",
      "metadata": {
        "id": "3ecf14e2"
      },
      "outputs": [],
      "source": [
        "cuisinesTokens[0]"
      ]
    },
    {
      "cell_type": "code",
      "execution_count": null,
      "id": "992427c8",
      "metadata": {
        "id": "992427c8"
      },
      "outputs": [],
      "source": [
        "type(cuisinesTokens[0])"
      ]
    },
    {
      "cell_type": "code",
      "execution_count": null,
      "id": "239a0258",
      "metadata": {
        "id": "239a0258"
      },
      "outputs": [],
      "source": [
        "allCuisines = cuisinesTokens.astype(str).str.cat()"
      ]
    },
    {
      "cell_type": "code",
      "execution_count": null,
      "id": "fd568267",
      "metadata": {
        "id": "fd568267"
      },
      "outputs": [],
      "source": [
        "cleanedCuisines = tokenizer.tokenize(allCuisines)"
      ]
    },
    {
      "cell_type": "code",
      "execution_count": null,
      "id": "42f261a9",
      "metadata": {
        "id": "42f261a9"
      },
      "outputs": [],
      "source": [
        "cleanedCuisines[0]"
      ]
    },
    {
      "cell_type": "code",
      "execution_count": null,
      "id": "edabcb3d",
      "metadata": {
        "id": "edabcb3d"
      },
      "outputs": [],
      "source": [
        "fdCuisines = FreqDist()"
      ]
    },
    {
      "cell_type": "code",
      "execution_count": null,
      "id": "e5165040",
      "metadata": {
        "id": "e5165040"
      },
      "outputs": [],
      "source": [
        "for cuisine in cleanedCuisines:\n",
        "    fdCuisines[cuisine] = fdCuisines[cuisine] + 1"
      ]
    },
    {
      "cell_type": "code",
      "execution_count": null,
      "id": "a75c06f1",
      "metadata": {
        "id": "a75c06f1"
      },
      "outputs": [],
      "source": [
        "fdCuisines.most_common(10)"
      ]
    },
    {
      "cell_type": "code",
      "execution_count": null,
      "id": "59a31b4f",
      "metadata": {
        "id": "59a31b4f"
      },
      "outputs": [],
      "source": [
        "fdCuisines.plot(10)"
      ]
    },
    {
      "cell_type": "markdown",
      "id": "d021b0b0",
      "metadata": {
        "id": "d021b0b0"
      },
      "source": [
        "## ML Data Prep"
      ]
    },
    {
      "cell_type": "code",
      "execution_count": null,
      "id": "fd82987a",
      "metadata": {
        "id": "fd82987a"
      },
      "outputs": [],
      "source": [
        "len(newData.columns)"
      ]
    },
    {
      "cell_type": "code",
      "execution_count": null,
      "id": "83a92b87",
      "metadata": {
        "id": "83a92b87"
      },
      "outputs": [],
      "source": [
        "newData.columns"
      ]
    },
    {
      "cell_type": "code",
      "execution_count": null,
      "id": "9363c843",
      "metadata": {
        "id": "9363c843"
      },
      "outputs": [],
      "source": [
        "newData.dtypes"
      ]
    },
    {
      "cell_type": "code",
      "execution_count": null,
      "id": "16ee1e70",
      "metadata": {
        "id": "16ee1e70"
      },
      "outputs": [],
      "source": [
        "newData[['dish_liked', 'cuisines', 'reviews_list','menu_item']] = newData[['dish_liked', 'cuisines', 'reviews_list','menu_item']].astype(str)"
      ]
    },
    {
      "cell_type": "code",
      "execution_count": null,
      "id": "745b5e50",
      "metadata": {
        "id": "745b5e50"
      },
      "outputs": [],
      "source": [
        "newData['text'] = newData['reviews_list'] + ' ' + newData['menu_item'] + ' ' + newData['dish_liked'] + ' ' + newData['cuisines']"
      ]
    },
    {
      "cell_type": "code",
      "execution_count": null,
      "id": "3184cded",
      "metadata": {
        "id": "3184cded"
      },
      "outputs": [],
      "source": [
        "newData.head()"
      ]
    },
    {
      "cell_type": "code",
      "execution_count": null,
      "id": "21e5e981",
      "metadata": {
        "id": "21e5e981"
      },
      "outputs": [],
      "source": [
        "textData = newData[['text', 'rating']]"
      ]
    },
    {
      "cell_type": "code",
      "execution_count": null,
      "id": "9ad083df",
      "metadata": {
        "id": "9ad083df"
      },
      "outputs": [],
      "source": [
        "textData.head()"
      ]
    },
    {
      "cell_type": "code",
      "execution_count": null,
      "id": "c96c76b5",
      "metadata": {
        "id": "c96c76b5"
      },
      "outputs": [],
      "source": [
        "textData['text'][0]"
      ]
    },
    {
      "cell_type": "code",
      "execution_count": null,
      "id": "9cf68519",
      "metadata": {
        "id": "9cf68519"
      },
      "outputs": [],
      "source": [
        "textData['text'] = textData['text'].apply(lambda x:x.lower())"
      ]
    },
    {
      "cell_type": "code",
      "execution_count": null,
      "id": "21c4a331",
      "metadata": {
        "id": "21c4a331"
      },
      "outputs": [],
      "source": [
        "textData.shape"
      ]
    },
    {
      "cell_type": "code",
      "execution_count": null,
      "id": "44310d10",
      "metadata": {
        "id": "44310d10"
      },
      "outputs": [],
      "source": [
        "df = textData.sample(n=2000)"
      ]
    },
    {
      "cell_type": "code",
      "execution_count": null,
      "id": "dc0e72d1",
      "metadata": {
        "id": "dc0e72d1"
      },
      "outputs": [],
      "source": [
        "df.head()"
      ]
    },
    {
      "cell_type": "code",
      "execution_count": null,
      "id": "dd0fd74f",
      "metadata": {
        "id": "dd0fd74f"
      },
      "outputs": [],
      "source": [
        "df.reset_index(inplace=True)"
      ]
    },
    {
      "cell_type": "code",
      "execution_count": null,
      "id": "5eb04313",
      "metadata": {
        "id": "5eb04313"
      },
      "outputs": [],
      "source": [
        "df.head()"
      ]
    },
    {
      "cell_type": "code",
      "execution_count": null,
      "id": "b3831e5d",
      "metadata": {
        "id": "b3831e5d"
      },
      "outputs": [],
      "source": [
        "df.drop('index', axis = 1, inplace = True)"
      ]
    },
    {
      "cell_type": "code",
      "execution_count": null,
      "id": "ea9e8287",
      "metadata": {
        "id": "ea9e8287"
      },
      "outputs": [],
      "source": [
        "df.head()"
      ]
    },
    {
      "cell_type": "code",
      "execution_count": null,
      "id": "0a6fad2b",
      "metadata": {
        "id": "0a6fad2b"
      },
      "outputs": [],
      "source": [
        "df.isnull().sum()"
      ]
    },
    {
      "cell_type": "code",
      "execution_count": null,
      "id": "2ed07a6e",
      "metadata": {
        "id": "2ed07a6e"
      },
      "outputs": [],
      "source": [
        "df.dropna(inplace = True)"
      ]
    },
    {
      "cell_type": "code",
      "execution_count": null,
      "id": "ca31a187",
      "metadata": {
        "id": "ca31a187"
      },
      "outputs": [],
      "source": [
        "tokens = df['text'].apply(tokenizer.tokenize)"
      ]
    },
    {
      "cell_type": "code",
      "execution_count": null,
      "id": "4b8433d5",
      "metadata": {
        "id": "4b8433d5"
      },
      "outputs": [],
      "source": [
        "tokens"
      ]
    },
    {
      "cell_type": "code",
      "execution_count": null,
      "id": "08120f95",
      "metadata": {
        "id": "08120f95"
      },
      "outputs": [],
      "source": [
        "tokens[1]"
      ]
    },
    {
      "cell_type": "code",
      "execution_count": null,
      "id": "47e1fadc",
      "metadata": {
        "id": "47e1fadc"
      },
      "outputs": [],
      "source": [
        "print(stop)"
      ]
    },
    {
      "cell_type": "code",
      "execution_count": null,
      "id": "8694e3e0",
      "metadata": {
        "id": "8694e3e0"
      },
      "outputs": [],
      "source": [
        "tokens = tokens.apply(lambda x: [token for token in x if token not in stop])"
      ]
    },
    {
      "cell_type": "code",
      "execution_count": null,
      "id": "6ef2305d",
      "metadata": {
        "id": "6ef2305d"
      },
      "outputs": [],
      "source": [
        "tokens.apply(removeStopwords)"
      ]
    },
    {
      "cell_type": "code",
      "execution_count": null,
      "id": "12f17cea",
      "metadata": {
        "id": "12f17cea"
      },
      "outputs": [],
      "source": [
        "wl=WordNetLemmatizer()"
      ]
    },
    {
      "cell_type": "code",
      "execution_count": null,
      "id": "8def11a2",
      "metadata": {
        "id": "8def11a2"
      },
      "outputs": [],
      "source": [
        "print(tokens[1])"
      ]
    },
    {
      "cell_type": "code",
      "execution_count": null,
      "id": "302076f5",
      "metadata": {
        "id": "302076f5"
      },
      "outputs": [],
      "source": [
        "word = tokens[1]\n",
        "print(word)"
      ]
    },
    {
      "cell_type": "code",
      "execution_count": null,
      "id": "db6c09d9",
      "metadata": {
        "id": "db6c09d9"
      },
      "outputs": [],
      "source": [
        "lem=[]\n",
        "for wd in word:\n",
        "    lem.append(wl.lemmatize(wd))\n",
        "lem"
      ]
    },
    {
      "cell_type": "code",
      "execution_count": null,
      "id": "669db3d3",
      "metadata": {
        "id": "669db3d3"
      },
      "outputs": [],
      "source": [
        "print(lem)"
      ]
    },
    {
      "cell_type": "code",
      "execution_count": null,
      "id": "91948f87",
      "metadata": {
        "id": "91948f87"
      },
      "outputs": [],
      "source": [
        "print([wl.lemmatize(wd)for wd in word])"
      ]
    },
    {
      "cell_type": "code",
      "execution_count": null,
      "id": "cd0b749f",
      "metadata": {
        "id": "cd0b749f"
      },
      "outputs": [],
      "source": [
        "def lem(text):\n",
        "    return [wl.lemmatize(wd) for wd in text]"
      ]
    },
    {
      "cell_type": "code",
      "execution_count": null,
      "id": "a5916801",
      "metadata": {
        "id": "a5916801"
      },
      "outputs": [],
      "source": [
        "tokensNew = tokens.apply(lem)"
      ]
    },
    {
      "cell_type": "code",
      "execution_count": null,
      "id": "ce457ed4",
      "metadata": {
        "id": "ce457ed4"
      },
      "outputs": [],
      "source": [
        "df.head()"
      ]
    },
    {
      "cell_type": "code",
      "execution_count": null,
      "id": "bfc576f9",
      "metadata": {
        "id": "bfc576f9"
      },
      "outputs": [],
      "source": [
        "df['rating'].dtype"
      ]
    },
    {
      "cell_type": "code",
      "execution_count": null,
      "id": "6d923e7a",
      "metadata": {
        "id": "6d923e7a"
      },
      "outputs": [],
      "source": [
        "le = LabelEncoder()"
      ]
    },
    {
      "cell_type": "code",
      "execution_count": null,
      "id": "4a5c0a1d",
      "metadata": {
        "id": "4a5c0a1d"
      },
      "outputs": [],
      "source": [
        "df['rating'] = le.fit_transform(df['rating'])"
      ]
    },
    {
      "cell_type": "code",
      "execution_count": null,
      "id": "de0ac414",
      "metadata": {
        "id": "de0ac414"
      },
      "outputs": [],
      "source": [
        "df['rating'].dtype"
      ]
    },
    {
      "cell_type": "markdown",
      "id": "b3e60857",
      "metadata": {
        "id": "b3e60857"
      },
      "source": [
        "## Creating TF-IDF Model"
      ]
    },
    {
      "cell_type": "code",
      "execution_count": null,
      "id": "f7c8e911",
      "metadata": {
        "id": "f7c8e911"
      },
      "outputs": [],
      "source": [
        "print(tokensNew[1])"
      ]
    },
    {
      "cell_type": "code",
      "execution_count": null,
      "id": "e976710e",
      "metadata": {
        "id": "e976710e"
      },
      "outputs": [],
      "source": [
        "' '.join(tokensNew[1])"
      ]
    },
    {
      "cell_type": "code",
      "execution_count": null,
      "id": "f77e13a3",
      "metadata": {
        "id": "f77e13a3"
      },
      "outputs": [],
      "source": [
        "tokensNew.index"
      ]
    },
    {
      "cell_type": "code",
      "execution_count": null,
      "id": "d5278139",
      "metadata": {
        "id": "d5278139"
      },
      "outputs": [],
      "source": [
        "corpus=[]\n",
        "\n",
        "for i in tokensNew.index:\n",
        "    review =' '.join(tokens[1])\n",
        "    corpus.append(review)"
      ]
    },
    {
      "cell_type": "code",
      "execution_count": null,
      "id": "a197de58",
      "metadata": {
        "id": "a197de58"
      },
      "outputs": [],
      "source": [
        "corpus"
      ]
    },
    {
      "cell_type": "code",
      "execution_count": null,
      "id": "45ad86ea",
      "metadata": {
        "id": "45ad86ea"
      },
      "outputs": [],
      "source": [
        "cv = TfidfVectorizer()"
      ]
    },
    {
      "cell_type": "code",
      "execution_count": null,
      "id": "4c1729dc",
      "metadata": {
        "id": "4c1729dc"
      },
      "outputs": [],
      "source": [
        "x = cv.fit_transform(corpus).toarray()"
      ]
    },
    {
      "cell_type": "code",
      "execution_count": null,
      "id": "2f59acc7",
      "metadata": {
        "id": "2f59acc7"
      },
      "outputs": [],
      "source": [
        "x.shape"
      ]
    },
    {
      "cell_type": "code",
      "execution_count": null,
      "id": "c2bbb0ba",
      "metadata": {
        "id": "c2bbb0ba"
      },
      "outputs": [],
      "source": [
        "x"
      ]
    },
    {
      "cell_type": "markdown",
      "id": "ae76e145",
      "metadata": {
        "id": "ae76e145"
      },
      "source": [
        "## Applying Logistic Regression"
      ]
    },
    {
      "cell_type": "code",
      "execution_count": null,
      "id": "e4ac1936",
      "metadata": {
        "id": "e4ac1936"
      },
      "outputs": [],
      "source": [
        "df['rating'].value_counts()"
      ]
    },
    {
      "cell_type": "code",
      "execution_count": null,
      "id": "59f4fc00",
      "metadata": {
        "id": "59f4fc00"
      },
      "outputs": [],
      "source": [
        "x_train, x_test, y_train, y_test = train_test_split(x,df['rating'],test_size = 0.3, random_state = 0, stratify = df['rating'])"
      ]
    },
    {
      "cell_type": "code",
      "execution_count": null,
      "id": "4e4b99f6",
      "metadata": {
        "id": "4e4b99f6"
      },
      "outputs": [],
      "source": [
        "lr = LogisticRegression(multi_class ='multinomial')"
      ]
    },
    {
      "cell_type": "code",
      "execution_count": null,
      "id": "35c63607",
      "metadata": {
        "id": "35c63607"
      },
      "outputs": [],
      "source": [
        "lr.fit(x_train, y_train)"
      ]
    },
    {
      "cell_type": "code",
      "execution_count": null,
      "id": "8582fa57",
      "metadata": {
        "id": "8582fa57"
      },
      "outputs": [],
      "source": [
        "predictions = lr.predict(x_test)"
      ]
    },
    {
      "cell_type": "code",
      "execution_count": null,
      "id": "c43c5fd8",
      "metadata": {
        "id": "c43c5fd8"
      },
      "outputs": [],
      "source": [
        "accuracy_score(predictions, y_test)"
      ]
    },
    {
      "cell_type": "markdown",
      "id": "d8cc8680",
      "metadata": {
        "id": "d8cc8680"
      },
      "source": [
        "## Playing with Multiple Algorithms"
      ]
    },
    {
      "cell_type": "code",
      "execution_count": null,
      "id": "49345a1a",
      "metadata": {
        "id": "49345a1a"
      },
      "outputs": [],
      "source": [
        "models = []\n",
        "\n",
        "models.append(('Logistic Regression', LogisticRegression()))\n",
        "models.append(('Naive Bayes', GaussianNB()))\n",
        "models.append(('Random Forest', RandomForestClassifier()))\n",
        "models.append(('Decision Tree', DecisionTreeClassifier()))"
      ]
    },
    {
      "cell_type": "code",
      "execution_count": null,
      "id": "25bc1aa1",
      "metadata": {
        "id": "25bc1aa1"
      },
      "outputs": [],
      "source": [
        "for name, model in models:\n",
        "    print(name)\n",
        "    print(model)"
      ]
    },
    {
      "cell_type": "code",
      "execution_count": null,
      "id": "b9e4eef1",
      "metadata": {
        "id": "b9e4eef1"
      },
      "outputs": [],
      "source": [
        "# Make predictions on validation dataset\n",
        "\n",
        "for name, model in models:\n",
        "    print(name)\n",
        "    model.fit(x_train, y_train)\n",
        "\n",
        "    # Make predictions.\n",
        "    predictions = model.predict(x_test)\n",
        "\n",
        "    # Compute the error.\n",
        "    print(confusion_matrix(predictions, y_test))\n",
        "\n",
        "    print(accuracy_score(predictions,y_test))\n",
        "    print('\\n')"
      ]
    },
    {
      "cell_type": "markdown",
      "id": "d5807717",
      "metadata": {
        "id": "d5807717"
      },
      "source": [
        "## Model Cross Validation"
      ]
    },
    {
      "cell_type": "code",
      "execution_count": null,
      "id": "0dc3a612",
      "metadata": {
        "id": "0dc3a612"
      },
      "outputs": [],
      "source": [
        "print(cross_val_score(lr,x,df['rating'], cv=5, scoring = 'accuracy').mean())"
      ]
    }
  ],
  "metadata": {
    "kernelspec": {
      "display_name": "Python 3 (ipykernel)",
      "language": "python",
      "name": "python3"
    },
    "language_info": {
      "codemirror_mode": {
        "name": "ipython",
        "version": 3
      },
      "file_extension": ".py",
      "mimetype": "text/x-python",
      "name": "python",
      "nbconvert_exporter": "python",
      "pygments_lexer": "ipython3",
      "version": "3.9.13"
    },
    "colab": {
      "provenance": [],
      "include_colab_link": true
    }
  },
  "nbformat": 4,
  "nbformat_minor": 5
}